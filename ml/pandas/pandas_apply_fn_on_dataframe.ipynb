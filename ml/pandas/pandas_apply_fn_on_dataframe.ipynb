{
  "nbformat": 4,
  "nbformat_minor": 0,
  "metadata": {
    "colab": {
      "name": "pandas-apply-fn-on-dataframe.ipynb",
      "provenance": [],
      "collapsed_sections": [],
      "authorship_tag": "ABX9TyMV/kREzn3zKlYh5MXtPpTY",
      "include_colab_link": true
    },
    "kernelspec": {
      "name": "python3",
      "display_name": "Python 3"
    }
  },
  "cells": [
    {
      "cell_type": "markdown",
      "metadata": {
        "id": "view-in-github",
        "colab_type": "text"
      },
      "source": [
        "<a href=\"https://colab.research.google.com/github/scgupta/yearn2learn/blob/master/ml/pandas/pandas_apply_fn_on_dataframe.ipynb\" target=\"_parent\"><img src=\"https://colab.research.google.com/assets/colab-badge.svg\" alt=\"Open In Colab\"/></a>"
      ]
    },
    {
      "cell_type": "markdown",
      "metadata": {
        "id": "SSyUJQr70wl2"
      },
      "source": [
        "# How to efficently apply a function to Pandas Dataframe rows"
      ]
    },
    {
      "cell_type": "markdown",
      "metadata": {
        "id": "Jiwj6K9a7Zuq"
      },
      "source": [
        "## Setup\n",
        "\n",
        "Install needed libs and import modules."
      ]
    },
    {
      "cell_type": "code",
      "metadata": {
        "id": "8VM04L0t7dor",
        "outputId": "642eaae4-dc60-42e2-ff08-d98b1f2f077e",
        "colab": {
          "base_uri": "https://localhost:8080/",
          "height": 776
        }
      },
      "source": [
        "!pip install faker line_profiler perfplot"
      ],
      "execution_count": null,
      "outputs": [
        {
          "output_type": "stream",
          "text": [
            "Collecting faker\n",
            "\u001b[?25l  Downloading https://files.pythonhosted.org/packages/d7/43/d26124590c8919cb7fa1608214d3c6e60182946a9c652d1816da0a178522/Faker-4.4.0-py3-none-any.whl (1.1MB)\n",
            "\u001b[K     |████████████████████████████████| 1.1MB 2.8MB/s \n",
            "\u001b[?25hCollecting line_profiler\n",
            "\u001b[?25l  Downloading https://files.pythonhosted.org/packages/d8/cc/4237472dd5c9a1a4079a89df7ba3d2924eed2696d68b91886743c728a9df/line_profiler-3.0.2-cp36-cp36m-manylinux2010_x86_64.whl (68kB)\n",
            "\u001b[K     |████████████████████████████████| 71kB 6.0MB/s \n",
            "\u001b[?25hCollecting perfplot\n",
            "  Downloading https://files.pythonhosted.org/packages/b3/f9/73f25ad5b693f9d2f40574c20e30fc81423bfacfea2868b11a7a74a47163/perfplot-0.8.4-py3-none-any.whl\n",
            "Requirement already satisfied: text-unidecode==1.3 in /usr/local/lib/python3.6/dist-packages (from faker) (1.3)\n",
            "Requirement already satisfied: python-dateutil>=2.4 in /usr/local/lib/python3.6/dist-packages (from faker) (2.8.1)\n",
            "Requirement already satisfied: IPython in /usr/local/lib/python3.6/dist-packages (from line_profiler) (5.5.0)\n",
            "Requirement already satisfied: numpy in /usr/local/lib/python3.6/dist-packages (from perfplot) (1.18.5)\n",
            "Requirement already satisfied: matplotlib in /usr/local/lib/python3.6/dist-packages (from perfplot) (3.2.2)\n",
            "Requirement already satisfied: importlib-metadata; python_version < \"3.8\" in /usr/local/lib/python3.6/dist-packages (from perfplot) (2.0.0)\n",
            "Collecting dufte\n",
            "  Downloading https://files.pythonhosted.org/packages/c2/bb/6f5241b182258315a6d5c5a6ecd8fbe5e10150cfd36a36e919bc01f952c4/dufte-0.2.9-py3-none-any.whl\n",
            "Collecting rich\n",
            "\u001b[?25l  Downloading https://files.pythonhosted.org/packages/97/1d/db7f1e437cc45fc8cd63073d17a5d71fb4fd30d19a442e19a9405e93091c/rich-8.0.0-py3-none-any.whl (155kB)\n",
            "\u001b[K     |████████████████████████████████| 163kB 9.6MB/s \n",
            "\u001b[?25hRequirement already satisfied: six>=1.5 in /usr/local/lib/python3.6/dist-packages (from python-dateutil>=2.4->faker) (1.15.0)\n",
            "Requirement already satisfied: pygments in /usr/local/lib/python3.6/dist-packages (from IPython->line_profiler) (2.6.1)\n",
            "Requirement already satisfied: simplegeneric>0.8 in /usr/local/lib/python3.6/dist-packages (from IPython->line_profiler) (0.8.1)\n",
            "Requirement already satisfied: setuptools>=18.5 in /usr/local/lib/python3.6/dist-packages (from IPython->line_profiler) (50.3.0)\n",
            "Requirement already satisfied: pickleshare in /usr/local/lib/python3.6/dist-packages (from IPython->line_profiler) (0.7.5)\n",
            "Requirement already satisfied: traitlets>=4.2 in /usr/local/lib/python3.6/dist-packages (from IPython->line_profiler) (4.3.3)\n",
            "Requirement already satisfied: pexpect; sys_platform != \"win32\" in /usr/local/lib/python3.6/dist-packages (from IPython->line_profiler) (4.8.0)\n",
            "Requirement already satisfied: decorator in /usr/local/lib/python3.6/dist-packages (from IPython->line_profiler) (4.4.2)\n",
            "Requirement already satisfied: prompt-toolkit<2.0.0,>=1.0.4 in /usr/local/lib/python3.6/dist-packages (from IPython->line_profiler) (1.0.18)\n",
            "Requirement already satisfied: kiwisolver>=1.0.1 in /usr/local/lib/python3.6/dist-packages (from matplotlib->perfplot) (1.2.0)\n",
            "Requirement already satisfied: cycler>=0.10 in /usr/local/lib/python3.6/dist-packages (from matplotlib->perfplot) (0.10.0)\n",
            "Requirement already satisfied: pyparsing!=2.0.4,!=2.1.2,!=2.1.6,>=2.0.1 in /usr/local/lib/python3.6/dist-packages (from matplotlib->perfplot) (2.4.7)\n",
            "Requirement already satisfied: zipp>=0.5 in /usr/local/lib/python3.6/dist-packages (from importlib-metadata; python_version < \"3.8\"->perfplot) (3.2.0)\n",
            "Collecting colorama<0.5.0,>=0.4.0\n",
            "  Downloading https://files.pythonhosted.org/packages/c9/dc/45cdef1b4d119eb96316b3117e6d5708a08029992b2fee2c143c7a0a5cc5/colorama-0.4.3-py2.py3-none-any.whl\n",
            "Requirement already satisfied: typing-extensions<4.0.0,>=3.7.4 in /usr/local/lib/python3.6/dist-packages (from rich->perfplot) (3.7.4.3)\n",
            "Requirement already satisfied: dataclasses<0.8,>=0.7; python_version >= \"3.6\" and python_version < \"3.7\" in /usr/local/lib/python3.6/dist-packages (from rich->perfplot) (0.7)\n",
            "Collecting commonmark<0.10.0,>=0.9.0\n",
            "\u001b[?25l  Downloading https://files.pythonhosted.org/packages/b1/92/dfd892312d822f36c55366118b95d914e5f16de11044a27cf10a7d71bbbf/commonmark-0.9.1-py2.py3-none-any.whl (51kB)\n",
            "\u001b[K     |████████████████████████████████| 51kB 5.5MB/s \n",
            "\u001b[?25hRequirement already satisfied: ipython-genutils in /usr/local/lib/python3.6/dist-packages (from traitlets>=4.2->IPython->line_profiler) (0.2.0)\n",
            "Requirement already satisfied: ptyprocess>=0.5 in /usr/local/lib/python3.6/dist-packages (from pexpect; sys_platform != \"win32\"->IPython->line_profiler) (0.6.0)\n",
            "Requirement already satisfied: wcwidth in /usr/local/lib/python3.6/dist-packages (from prompt-toolkit<2.0.0,>=1.0.4->IPython->line_profiler) (0.2.5)\n",
            "Installing collected packages: faker, line-profiler, dufte, colorama, commonmark, rich, perfplot\n",
            "Successfully installed colorama-0.4.3 commonmark-0.9.1 dufte-0.2.9 faker-4.4.0 line-profiler-3.0.2 perfplot-0.8.4 rich-8.0.0\n"
          ],
          "name": "stdout"
        }
      ]
    },
    {
      "cell_type": "code",
      "metadata": {
        "id": "M6jDUCigwMuQ"
      },
      "source": [
        "%load_ext line_profiler"
      ],
      "execution_count": null,
      "outputs": []
    },
    {
      "cell_type": "code",
      "metadata": {
        "id": "Zx98I0FB0gtv"
      },
      "source": [
        "import numpy as np\n",
        "import pandas as pd\n",
        "import datetime\n",
        "import perfplot\n",
        "\n",
        "from faker import Faker"
      ],
      "execution_count": null,
      "outputs": []
    },
    {
      "cell_type": "markdown",
      "metadata": {
        "id": "_0IL8WfzMbui"
      },
      "source": [
        "## Test Data\n",
        "\n",
        "In real life, this data would be read from a CSV file or a data store. But for this tutorial, generating test data to keep it simple."
      ]
    },
    {
      "cell_type": "code",
      "metadata": {
        "id": "VkMVQnxVMYoK"
      },
      "source": [
        "def generate_test_data(size: int, days: int = 30):\n",
        "  fake = Faker()\n",
        "  Faker.seed(42)\n",
        "\n",
        "  PRIORITIES = {\n",
        "    0: 'HIGH',\n",
        "    1: 'MEDIUM',\n",
        "    2: 'LOW'\n",
        "  }\n",
        "\n",
        "  return pd.DataFrame({\n",
        "    'task_name': [\n",
        "      f'Task {i + 1}'\n",
        "      for i in range(size)\n",
        "    ],\n",
        "    'due_date': [\n",
        "      fake.date_between(start_date='today', end_date=f'+{days}d')\n",
        "      for _ in range(size)\n",
        "    ],\n",
        "    'priority': [\n",
        "      PRIORITIES[fake.pyint(min_value=0, max_value=(len(PRIORITIES) - 1))]\n",
        "      for i in range(size)\n",
        "    ]\n",
        "  })\n"
      ],
      "execution_count": null,
      "outputs": []
    },
    {
      "cell_type": "code",
      "metadata": {
        "id": "UhWpIMDNIc2-",
        "outputId": "24dec3c5-9b48-44c4-f2fc-b6097b33c275",
        "colab": {
          "base_uri": "https://localhost:8080/",
          "height": 511
        }
      },
      "source": [
        "# Try generate_test_data\n",
        "tmp_df = generate_test_data(10, 5)\n",
        "tmp_df.info()\n",
        "tmp_df.head(10)"
      ],
      "execution_count": null,
      "outputs": [
        {
          "output_type": "stream",
          "text": [
            "<class 'pandas.core.frame.DataFrame'>\n",
            "RangeIndex: 10 entries, 0 to 9\n",
            "Data columns (total 3 columns):\n",
            " #   Column     Non-Null Count  Dtype \n",
            "---  ------     --------------  ----- \n",
            " 0   task_name  10 non-null     object\n",
            " 1   due_date   10 non-null     object\n",
            " 2   priority   10 non-null     object\n",
            "dtypes: object(3)\n",
            "memory usage: 368.0+ bytes\n"
          ],
          "name": "stdout"
        },
        {
          "output_type": "execute_result",
          "data": {
            "text/html": [
              "<div>\n",
              "<style scoped>\n",
              "    .dataframe tbody tr th:only-of-type {\n",
              "        vertical-align: middle;\n",
              "    }\n",
              "\n",
              "    .dataframe tbody tr th {\n",
              "        vertical-align: top;\n",
              "    }\n",
              "\n",
              "    .dataframe thead th {\n",
              "        text-align: right;\n",
              "    }\n",
              "</style>\n",
              "<table border=\"1\" class=\"dataframe\">\n",
              "  <thead>\n",
              "    <tr style=\"text-align: right;\">\n",
              "      <th></th>\n",
              "      <th>task_name</th>\n",
              "      <th>due_date</th>\n",
              "      <th>priority</th>\n",
              "    </tr>\n",
              "  </thead>\n",
              "  <tbody>\n",
              "    <tr>\n",
              "      <th>0</th>\n",
              "      <td>Task 1</td>\n",
              "      <td>2020-10-07</td>\n",
              "      <td>LOW</td>\n",
              "    </tr>\n",
              "    <tr>\n",
              "      <th>1</th>\n",
              "      <td>Task 2</td>\n",
              "      <td>2020-10-04</td>\n",
              "      <td>LOW</td>\n",
              "    </tr>\n",
              "    <tr>\n",
              "      <th>2</th>\n",
              "      <td>Task 3</td>\n",
              "      <td>2020-10-04</td>\n",
              "      <td>LOW</td>\n",
              "    </tr>\n",
              "    <tr>\n",
              "      <th>3</th>\n",
              "      <td>Task 4</td>\n",
              "      <td>2020-10-08</td>\n",
              "      <td>HIGH</td>\n",
              "    </tr>\n",
              "    <tr>\n",
              "      <th>4</th>\n",
              "      <td>Task 5</td>\n",
              "      <td>2020-10-05</td>\n",
              "      <td>LOW</td>\n",
              "    </tr>\n",
              "    <tr>\n",
              "      <th>5</th>\n",
              "      <td>Task 6</td>\n",
              "      <td>2020-10-05</td>\n",
              "      <td>MEDIUM</td>\n",
              "    </tr>\n",
              "    <tr>\n",
              "      <th>6</th>\n",
              "      <td>Task 7</td>\n",
              "      <td>2020-10-05</td>\n",
              "      <td>HIGH</td>\n",
              "    </tr>\n",
              "    <tr>\n",
              "      <th>7</th>\n",
              "      <td>Task 8</td>\n",
              "      <td>2020-10-04</td>\n",
              "      <td>HIGH</td>\n",
              "    </tr>\n",
              "    <tr>\n",
              "      <th>8</th>\n",
              "      <td>Task 9</td>\n",
              "      <td>2020-10-08</td>\n",
              "      <td>HIGH</td>\n",
              "    </tr>\n",
              "    <tr>\n",
              "      <th>9</th>\n",
              "      <td>Task 10</td>\n",
              "      <td>2020-10-04</td>\n",
              "      <td>HIGH</td>\n",
              "    </tr>\n",
              "  </tbody>\n",
              "</table>\n",
              "</div>"
            ],
            "text/plain": [
              "  task_name    due_date priority\n",
              "0    Task 1  2020-10-07      LOW\n",
              "1    Task 2  2020-10-04      LOW\n",
              "2    Task 3  2020-10-04      LOW\n",
              "3    Task 4  2020-10-08     HIGH\n",
              "4    Task 5  2020-10-05      LOW\n",
              "5    Task 6  2020-10-05   MEDIUM\n",
              "6    Task 7  2020-10-05     HIGH\n",
              "7    Task 8  2020-10-04     HIGH\n",
              "8    Task 9  2020-10-08     HIGH\n",
              "9   Task 10  2020-10-04     HIGH"
            ]
          },
          "metadata": {
            "tags": []
          },
          "execution_count": 5
        }
      ]
    },
    {
      "cell_type": "code",
      "metadata": {
        "id": "RuQ8EIoeb9hK",
        "outputId": "a00dfea2-f6be-42bf-daaa-d18ad0f11153",
        "colab": {
          "base_uri": "https://localhost:8080/",
          "height": 35
        }
      },
      "source": [
        "tmp_df['task_name'].loc[0]"
      ],
      "execution_count": null,
      "outputs": [
        {
          "output_type": "execute_result",
          "data": {
            "application/vnd.google.colaboratory.intrinsic+json": {
              "type": "string"
            },
            "text/plain": [
              "'Task 1'"
            ]
          },
          "metadata": {
            "tags": []
          },
          "execution_count": 6
        }
      ]
    },
    {
      "cell_type": "code",
      "metadata": {
        "id": "QIlB4k22CQZl",
        "outputId": "e4b92910-a5cb-42a5-d6b6-e836121137fc",
        "colab": {
          "base_uri": "https://localhost:8080/",
          "height": 34
        }
      },
      "source": [
        "tmp_df['due_date'].loc[0]\n",
        "# pd.to_datetime(tmp_df['due_date']).dt.date.loc[0]"
      ],
      "execution_count": null,
      "outputs": [
        {
          "output_type": "execute_result",
          "data": {
            "text/plain": [
              "datetime.date(2020, 10, 7)"
            ]
          },
          "metadata": {
            "tags": []
          },
          "execution_count": 7
        }
      ]
    },
    {
      "cell_type": "code",
      "metadata": {
        "id": "Uowr-JbbcDDY",
        "outputId": "fabeaab7-ca3e-49f1-ed80-0216ec6d1b1e",
        "colab": {
          "base_uri": "https://localhost:8080/",
          "height": 35
        }
      },
      "source": [
        "tmp_df['priority'].loc[0]"
      ],
      "execution_count": null,
      "outputs": [
        {
          "output_type": "execute_result",
          "data": {
            "application/vnd.google.colaboratory.intrinsic+json": {
              "type": "string"
            },
            "text/plain": [
              "'LOW'"
            ]
          },
          "metadata": {
            "tags": []
          },
          "execution_count": 8
        }
      ]
    },
    {
      "cell_type": "markdown",
      "metadata": {
        "id": "i3i4ZSQSdGUD"
      },
      "source": [
        "### Generate Test Dataset"
      ]
    },
    {
      "cell_type": "code",
      "metadata": {
        "id": "jsRezhLNdWK6"
      },
      "source": [
        "# Generate a million rows. Use sample from it to create various size data sets\n",
        "# Will take some time as Faker will be called sequencially.\n",
        "test_data_set = generate_test_data(1000000, 90)"
      ],
      "execution_count": null,
      "outputs": []
    },
    {
      "cell_type": "code",
      "metadata": {
        "id": "ApFngawExp-E",
        "outputId": "e8739b7f-7e37-432f-e03d-52ba54d4f7ca",
        "colab": {
          "base_uri": "https://localhost:8080/",
          "height": 195
        }
      },
      "source": [
        "test_data_set.head(5)"
      ],
      "execution_count": null,
      "outputs": [
        {
          "output_type": "execute_result",
          "data": {
            "text/html": [
              "<div>\n",
              "<style scoped>\n",
              "    .dataframe tbody tr th:only-of-type {\n",
              "        vertical-align: middle;\n",
              "    }\n",
              "\n",
              "    .dataframe tbody tr th {\n",
              "        vertical-align: top;\n",
              "    }\n",
              "\n",
              "    .dataframe thead th {\n",
              "        text-align: right;\n",
              "    }\n",
              "</style>\n",
              "<table border=\"1\" class=\"dataframe\">\n",
              "  <thead>\n",
              "    <tr style=\"text-align: right;\">\n",
              "      <th></th>\n",
              "      <th>task_name</th>\n",
              "      <th>due_date</th>\n",
              "      <th>priority</th>\n",
              "    </tr>\n",
              "  </thead>\n",
              "  <tbody>\n",
              "    <tr>\n",
              "      <th>0</th>\n",
              "      <td>Task 1</td>\n",
              "      <td>2020-12-05</td>\n",
              "      <td>HIGH</td>\n",
              "    </tr>\n",
              "    <tr>\n",
              "      <th>1</th>\n",
              "      <td>Task 2</td>\n",
              "      <td>2020-10-14</td>\n",
              "      <td>LOW</td>\n",
              "    </tr>\n",
              "    <tr>\n",
              "      <th>2</th>\n",
              "      <td>Task 3</td>\n",
              "      <td>2020-10-06</td>\n",
              "      <td>LOW</td>\n",
              "    </tr>\n",
              "    <tr>\n",
              "      <th>3</th>\n",
              "      <td>Task 4</td>\n",
              "      <td>2020-12-14</td>\n",
              "      <td>MEDIUM</td>\n",
              "    </tr>\n",
              "    <tr>\n",
              "      <th>4</th>\n",
              "      <td>Task 5</td>\n",
              "      <td>2020-10-30</td>\n",
              "      <td>HIGH</td>\n",
              "    </tr>\n",
              "  </tbody>\n",
              "</table>\n",
              "</div>"
            ],
            "text/plain": [
              "  task_name    due_date priority\n",
              "0    Task 1  2020-12-05     HIGH\n",
              "1    Task 2  2020-10-14      LOW\n",
              "2    Task 3  2020-10-06      LOW\n",
              "3    Task 4  2020-12-14   MEDIUM\n",
              "4    Task 5  2020-10-30     HIGH"
            ]
          },
          "metadata": {
            "tags": []
          },
          "execution_count": 10
        }
      ]
    },
    {
      "cell_type": "code",
      "metadata": {
        "id": "xcNRQLUJPHpC"
      },
      "source": [
        "def test_data_sample(size: int):\n",
        "  return test_data_set.sample(n=size).copy().reset_index(drop=True)"
      ],
      "execution_count": null,
      "outputs": []
    },
    {
      "cell_type": "code",
      "metadata": {
        "id": "DyP1e_64eFVz",
        "outputId": "7135fca5-1e7f-4407-d31d-46a40363d9c0",
        "colab": {
          "base_uri": "https://localhost:8080/",
          "height": 195
        }
      },
      "source": [
        "# Test sample of size 10\n",
        "test_data_sample(10).head(5)"
      ],
      "execution_count": null,
      "outputs": [
        {
          "output_type": "execute_result",
          "data": {
            "text/html": [
              "<div>\n",
              "<style scoped>\n",
              "    .dataframe tbody tr th:only-of-type {\n",
              "        vertical-align: middle;\n",
              "    }\n",
              "\n",
              "    .dataframe tbody tr th {\n",
              "        vertical-align: top;\n",
              "    }\n",
              "\n",
              "    .dataframe thead th {\n",
              "        text-align: right;\n",
              "    }\n",
              "</style>\n",
              "<table border=\"1\" class=\"dataframe\">\n",
              "  <thead>\n",
              "    <tr style=\"text-align: right;\">\n",
              "      <th></th>\n",
              "      <th>task_name</th>\n",
              "      <th>due_date</th>\n",
              "      <th>priority</th>\n",
              "    </tr>\n",
              "  </thead>\n",
              "  <tbody>\n",
              "    <tr>\n",
              "      <th>0</th>\n",
              "      <td>Task 642300</td>\n",
              "      <td>2020-12-29</td>\n",
              "      <td>HIGH</td>\n",
              "    </tr>\n",
              "    <tr>\n",
              "      <th>1</th>\n",
              "      <td>Task 312026</td>\n",
              "      <td>2020-10-12</td>\n",
              "      <td>LOW</td>\n",
              "    </tr>\n",
              "    <tr>\n",
              "      <th>2</th>\n",
              "      <td>Task 255858</td>\n",
              "      <td>2020-10-15</td>\n",
              "      <td>MEDIUM</td>\n",
              "    </tr>\n",
              "    <tr>\n",
              "      <th>3</th>\n",
              "      <td>Task 598030</td>\n",
              "      <td>2020-11-04</td>\n",
              "      <td>LOW</td>\n",
              "    </tr>\n",
              "    <tr>\n",
              "      <th>4</th>\n",
              "      <td>Task 643474</td>\n",
              "      <td>2020-10-12</td>\n",
              "      <td>HIGH</td>\n",
              "    </tr>\n",
              "  </tbody>\n",
              "</table>\n",
              "</div>"
            ],
            "text/plain": [
              "     task_name    due_date priority\n",
              "0  Task 642300  2020-12-29     HIGH\n",
              "1  Task 312026  2020-10-12      LOW\n",
              "2  Task 255858  2020-10-15   MEDIUM\n",
              "3  Task 598030  2020-11-04      LOW\n",
              "4  Task 643474  2020-10-12     HIGH"
            ]
          },
          "metadata": {
            "tags": []
          },
          "execution_count": 12
        }
      ]
    },
    {
      "cell_type": "code",
      "metadata": {
        "id": "s8FXpGcqzUCg",
        "outputId": "d45f6c02-7e79-442e-d5a7-cb53cfea31c8",
        "colab": {
          "base_uri": "https://localhost:8080/",
          "height": 195
        }
      },
      "source": [
        "test_data_set.head(5)"
      ],
      "execution_count": null,
      "outputs": [
        {
          "output_type": "execute_result",
          "data": {
            "text/html": [
              "<div>\n",
              "<style scoped>\n",
              "    .dataframe tbody tr th:only-of-type {\n",
              "        vertical-align: middle;\n",
              "    }\n",
              "\n",
              "    .dataframe tbody tr th {\n",
              "        vertical-align: top;\n",
              "    }\n",
              "\n",
              "    .dataframe thead th {\n",
              "        text-align: right;\n",
              "    }\n",
              "</style>\n",
              "<table border=\"1\" class=\"dataframe\">\n",
              "  <thead>\n",
              "    <tr style=\"text-align: right;\">\n",
              "      <th></th>\n",
              "      <th>task_name</th>\n",
              "      <th>due_date</th>\n",
              "      <th>priority</th>\n",
              "    </tr>\n",
              "  </thead>\n",
              "  <tbody>\n",
              "    <tr>\n",
              "      <th>0</th>\n",
              "      <td>Task 1</td>\n",
              "      <td>2020-12-05</td>\n",
              "      <td>HIGH</td>\n",
              "    </tr>\n",
              "    <tr>\n",
              "      <th>1</th>\n",
              "      <td>Task 2</td>\n",
              "      <td>2020-10-14</td>\n",
              "      <td>LOW</td>\n",
              "    </tr>\n",
              "    <tr>\n",
              "      <th>2</th>\n",
              "      <td>Task 3</td>\n",
              "      <td>2020-10-06</td>\n",
              "      <td>LOW</td>\n",
              "    </tr>\n",
              "    <tr>\n",
              "      <th>3</th>\n",
              "      <td>Task 4</td>\n",
              "      <td>2020-12-14</td>\n",
              "      <td>MEDIUM</td>\n",
              "    </tr>\n",
              "    <tr>\n",
              "      <th>4</th>\n",
              "      <td>Task 5</td>\n",
              "      <td>2020-10-30</td>\n",
              "      <td>HIGH</td>\n",
              "    </tr>\n",
              "  </tbody>\n",
              "</table>\n",
              "</div>"
            ],
            "text/plain": [
              "  task_name    due_date priority\n",
              "0    Task 1  2020-12-05     HIGH\n",
              "1    Task 2  2020-10-14      LOW\n",
              "2    Task 3  2020-10-06      LOW\n",
              "3    Task 4  2020-12-14   MEDIUM\n",
              "4    Task 5  2020-10-30     HIGH"
            ]
          },
          "metadata": {
            "tags": []
          },
          "execution_count": 13
        }
      ]
    },
    {
      "cell_type": "markdown",
      "metadata": {
        "id": "dV30ih-zMjZh"
      },
      "source": [
        "## Optimize DataFrame Storage\n",
        "\n",
        "Compacting the data not only saves space, but also speeds up the processing. Two common opportunities are:\n",
        "\n",
        "- Converting timestamp strings or datetime to [datetime64](https://pandas.pydata.org/pandas-docs/stable/user_guide/timeseries.html)\n",
        "- Converting strings of enum types to [Categorical](https://pandas.pydata.org/pandas-docs/stable/user_guide/categorical.html) data type\n",
        "\n",
        "For fair comparision, compression test data to max extent possible."
      ]
    },
    {
      "cell_type": "code",
      "metadata": {
        "id": "pyIn47WiMrHK",
        "outputId": "83d7ecff-bca6-4245-b327-ea138a2afd2a",
        "colab": {
          "base_uri": "https://localhost:8080/",
          "height": 185
        }
      },
      "source": [
        "test_data_set.info()"
      ],
      "execution_count": null,
      "outputs": [
        {
          "output_type": "stream",
          "text": [
            "<class 'pandas.core.frame.DataFrame'>\n",
            "RangeIndex: 1000000 entries, 0 to 999999\n",
            "Data columns (total 3 columns):\n",
            " #   Column     Non-Null Count    Dtype \n",
            "---  ------     --------------    ----- \n",
            " 0   task_name  1000000 non-null  object\n",
            " 1   due_date   1000000 non-null  object\n",
            " 2   priority   1000000 non-null  object\n",
            "dtypes: object(3)\n",
            "memory usage: 22.9+ MB\n"
          ],
          "name": "stdout"
        }
      ]
    },
    {
      "cell_type": "code",
      "metadata": {
        "id": "8JnGXQNKaa8B"
      },
      "source": [
        "priority_dtype = pd.api.types.CategoricalDtype(\n",
        "  categories=['LOW', 'MEDIUM', 'HIGH'],\n",
        "  ordered=True\n",
        ")"
      ],
      "execution_count": null,
      "outputs": []
    },
    {
      "cell_type": "code",
      "metadata": {
        "id": "08OvgJZL-s8s",
        "outputId": "19bf54cc-1efb-4483-9d0d-c3fe9bf47a78",
        "colab": {
          "base_uri": "https://localhost:8080/",
          "height": 34
        }
      },
      "source": [
        "priority_map = dict(enumerate(pd.Series(['']).astype(priority_dtype).cat.categories))\n",
        "priority_map"
      ],
      "execution_count": null,
      "outputs": [
        {
          "output_type": "execute_result",
          "data": {
            "text/plain": [
              "{0: 'LOW', 1: 'MEDIUM', 2: 'HIGH'}"
            ]
          },
          "metadata": {
            "tags": []
          },
          "execution_count": 16
        }
      ]
    },
    {
      "cell_type": "code",
      "metadata": {
        "id": "Pv5F5MnHiqrA",
        "outputId": "6fcdc3e0-2f57-40d5-f28d-6a01bc14f35e",
        "colab": {
          "base_uri": "https://localhost:8080/",
          "height": 185
        }
      },
      "source": [
        "test_data_set['priority'] = test_data_set['priority'].astype(priority_dtype)\n",
        "test_data_set.info()"
      ],
      "execution_count": null,
      "outputs": [
        {
          "output_type": "stream",
          "text": [
            "<class 'pandas.core.frame.DataFrame'>\n",
            "RangeIndex: 1000000 entries, 0 to 999999\n",
            "Data columns (total 3 columns):\n",
            " #   Column     Non-Null Count    Dtype   \n",
            "---  ------     --------------    -----   \n",
            " 0   task_name  1000000 non-null  object  \n",
            " 1   due_date   1000000 non-null  object  \n",
            " 2   priority   1000000 non-null  category\n",
            "dtypes: category(1), object(2)\n",
            "memory usage: 16.2+ MB\n"
          ],
          "name": "stdout"
        }
      ]
    },
    {
      "cell_type": "code",
      "metadata": {
        "id": "AYjdRWmYoGSx",
        "outputId": "45962a71-98e7-4dc4-bead-077dde79b85f",
        "colab": {
          "base_uri": "https://localhost:8080/",
          "height": 35
        }
      },
      "source": [
        "test_data_set['priority'].loc[0]"
      ],
      "execution_count": null,
      "outputs": [
        {
          "output_type": "execute_result",
          "data": {
            "application/vnd.google.colaboratory.intrinsic+json": {
              "type": "string"
            },
            "text/plain": [
              "'HIGH'"
            ]
          },
          "metadata": {
            "tags": []
          },
          "execution_count": 18
        }
      ]
    },
    {
      "cell_type": "markdown",
      "metadata": {
        "id": "6aUQ7kNNniA3"
      },
      "source": [
        "Using category for priority reduced the memory usage by ~30%."
      ]
    },
    {
      "cell_type": "markdown",
      "metadata": {
        "id": "mSUlG6gOMvu7"
      },
      "source": [
        "## Optimize DataFrame Processing Time"
      ]
    },
    {
      "cell_type": "markdown",
      "metadata": {
        "id": "kQ0d8vSlHGAW"
      },
      "source": [
        "### The Eisenhower Method\n",
        "\n",
        "Decide about action needed using [Eisenhower method](https://en.wikipedia.org/wiki/Time_management#The_Eisenhower_Method):\n",
        "\n",
        "| Important | Urgent    | Binary | Int | Action   |\n",
        "| --------- | --------- | :----: | :-: | -------- |\n",
        "| True (1)  | True (1)  |   11   |  3  | DO       |\n",
        "| True (1)  | False (0) |   10   |  2  | SCHEDULE |\n",
        "| False (0) | True (1)  |   01   |  1  | DELEGATE |\n",
        "| False (0) | False (0) |   00   |  0  | DELETE   |"
      ]
    },
    {
      "cell_type": "code",
      "metadata": {
        "id": "Y9HmUqc4HYmN"
      },
      "source": [
        "action_dtype = pd.api.types.CategoricalDtype(\n",
        "  categories=['DELETE', 'DELEGATE', 'SCHEDULE', 'DO'],\n",
        "  ordered=True\n",
        ")"
      ],
      "execution_count": null,
      "outputs": []
    },
    {
      "cell_type": "code",
      "metadata": {
        "id": "-3yHfVqRHZGm",
        "outputId": "a83ab8ad-aa15-428d-f9fc-87c2de159eb5",
        "colab": {
          "base_uri": "https://localhost:8080/",
          "height": 34
        }
      },
      "source": [
        "action_map = dict(enumerate(pd.Series(['']).astype(action_dtype).cat.categories))\n",
        "action_map"
      ],
      "execution_count": null,
      "outputs": [
        {
          "output_type": "execute_result",
          "data": {
            "text/plain": [
              "{0: 'DELETE', 1: 'DELEGATE', 2: 'SCHEDULE', 3: 'DO'}"
            ]
          },
          "metadata": {
            "tags": []
          },
          "execution_count": 20
        }
      ]
    },
    {
      "cell_type": "code",
      "metadata": {
        "id": "J-ckAXUV0OWB"
      },
      "source": [
        "def eisenhower_action(is_important: bool, is_urgent: bool) -> int:\n",
        "  return 2 * is_important + is_urgent\n",
        "\n",
        "def eisenhower_action_str(is_important: bool, is_urgent: bool) -> str:\n",
        "  return action_map[eisenhower_action(is_important, is_urgent)]"
      ],
      "execution_count": null,
      "outputs": []
    },
    {
      "cell_type": "code",
      "metadata": {
        "id": "BzVGTCZ4XyUw"
      },
      "source": [
        "# Let's say anything due by tomorrow is Urgent\n",
        "cutoff_date = datetime.date.today() + datetime.timedelta(days=2)"
      ],
      "execution_count": null,
      "outputs": []
    },
    {
      "cell_type": "code",
      "metadata": {
        "id": "ZrVtS6eX4YdJ",
        "outputId": "8d29b3df-da08-4055-e2d6-a11c1e2098fc",
        "colab": {
          "base_uri": "https://localhost:8080/",
          "height": 35
        }
      },
      "source": [
        "# Test compute_eisenhower_action\n",
        "\n",
        "eisenhower_action_str(\n",
        "  test_data_set.loc[0].priority == 'HIGH',\n",
        "  test_data_set.loc[0].due_date <= cutoff_date\n",
        ")"
      ],
      "execution_count": null,
      "outputs": [
        {
          "output_type": "execute_result",
          "data": {
            "application/vnd.google.colaboratory.intrinsic+json": {
              "type": "string"
            },
            "text/plain": [
              "'SCHEDULE'"
            ]
          },
          "metadata": {
            "tags": []
          },
          "execution_count": 23
        }
      ]
    },
    {
      "cell_type": "code",
      "metadata": {
        "id": "Wwy6iBF3Ui8v"
      },
      "source": [
        "# Work with a smaller data set to try each alternative\n",
        "data_sample = test_data_sample(100000)"
      ],
      "execution_count": null,
      "outputs": []
    },
    {
      "cell_type": "markdown",
      "metadata": {
        "id": "Z30TqS6PQ07E"
      },
      "source": [
        "### Method 1: Loop over Pandas DataFrame"
      ]
    },
    {
      "cell_type": "code",
      "metadata": {
        "id": "JsxOxGu2RQgX"
      },
      "source": [
        "def loop_impl(df):\n",
        "  cutoff_date = datetime.date.today() + datetime.timedelta(days=2)\n",
        "\n",
        "  result = []\n",
        "  for i in range(len(df)):\n",
        "    row = df.iloc[i]\n",
        "    result.append(\n",
        "      eisenhower_action(row.priority == 'HIGH', row.due_date <= cutoff_date)\n",
        "    )\n",
        "\n",
        "  return pd.Series(result)"
      ],
      "execution_count": null,
      "outputs": []
    },
    {
      "cell_type": "code",
      "metadata": {
        "id": "c9k4BSpRTlVu",
        "outputId": "f44acdf2-9d3f-4bd1-a380-e7720dc915d2",
        "colab": {
          "base_uri": "https://localhost:8080/",
          "height": 34
        }
      },
      "source": [
        "%timeit data_sample['action_loop'] = loop_impl(data_sample)"
      ],
      "execution_count": null,
      "outputs": [
        {
          "output_type": "stream",
          "text": [
            "1 loop, best of 3: 37.5 s per loop\n"
          ],
          "name": "stdout"
        }
      ]
    },
    {
      "cell_type": "code",
      "metadata": {
        "id": "Gfaj7lxELRNf"
      },
      "source": [
        "%lprun -f loop_impl  loop_impl(test_data_sample(100))"
      ],
      "execution_count": null,
      "outputs": []
    },
    {
      "cell_type": "markdown",
      "metadata": {
        "id": "CtX8RTnMM7uU"
      },
      "source": [
        "### Method 2: Pandas iterrow Function"
      ]
    },
    {
      "cell_type": "code",
      "metadata": {
        "id": "hBXHW8cGRMqV"
      },
      "source": [
        "def iterrows_impl(df):\n",
        "  cutoff_date = datetime.date.today() + datetime.timedelta(days=2)\n",
        "  return pd.Series(\n",
        "    eisenhower_action(row.priority == 'HIGH', row.due_date <= cutoff_date)\n",
        "    for index, row in df.iterrows()\n",
        "  )"
      ],
      "execution_count": null,
      "outputs": []
    },
    {
      "cell_type": "code",
      "metadata": {
        "id": "08rVStuRNCmh",
        "outputId": "9a9c49f0-4490-4b40-a8b2-9c11744c292b",
        "colab": {
          "base_uri": "https://localhost:8080/",
          "height": 34
        }
      },
      "source": [
        "%timeit data_sample['action_iterrow'] = iterrows_impl(data_sample)"
      ],
      "execution_count": null,
      "outputs": [
        {
          "output_type": "stream",
          "text": [
            "1 loop, best of 3: 9.59 s per loop\n"
          ],
          "name": "stdout"
        }
      ]
    },
    {
      "cell_type": "markdown",
      "metadata": {
        "id": "WbQdCzeyaFGu"
      },
      "source": [
        "### Method 3: Pandas itertuples Function"
      ]
    },
    {
      "cell_type": "code",
      "metadata": {
        "id": "zJTC1fd_aZsn"
      },
      "source": [
        "def itertuples_impl(df):\n",
        "  cutoff_date = datetime.date.today() + datetime.timedelta(days=2)\n",
        "  return pd.Series(\n",
        "    eisenhower_action(row.priority == 'HIGH', row.due_date <= cutoff_date)\n",
        "    for row in df.itertuples()\n",
        "  )"
      ],
      "execution_count": null,
      "outputs": []
    },
    {
      "cell_type": "code",
      "metadata": {
        "id": "H6O01yB1cSc8",
        "outputId": "e6aba53e-3b5f-4375-af65-c5b5aaf8ae78",
        "colab": {
          "base_uri": "https://localhost:8080/",
          "height": 34
        }
      },
      "source": [
        "%timeit data_sample['action_itertuples'] = itertuples_impl(data_sample)"
      ],
      "execution_count": null,
      "outputs": [
        {
          "output_type": "stream",
          "text": [
            "10 loops, best of 3: 178 ms per loop\n"
          ],
          "name": "stdout"
        }
      ]
    },
    {
      "cell_type": "markdown",
      "metadata": {
        "id": "VuIUVfqyNEVz"
      },
      "source": [
        "### Method 4: Pandas apply Function"
      ]
    },
    {
      "cell_type": "code",
      "metadata": {
        "id": "tUYovpRjXZWC"
      },
      "source": [
        "def apply_impl(df):\n",
        "  cutoff_date = datetime.date.today() + datetime.timedelta(days=2)\n",
        "  return df.apply(\n",
        "      lambda row: eisenhower_action(row.priority == 'HIGH', row.due_date <= cutoff_date),\n",
        "      axis=1\n",
        "  )"
      ],
      "execution_count": null,
      "outputs": []
    },
    {
      "cell_type": "code",
      "metadata": {
        "id": "HKhDaS_3ZZdN",
        "outputId": "0b2bb6fc-5ef4-49bf-b5a9-4741f5ccefd8",
        "colab": {
          "base_uri": "https://localhost:8080/",
          "height": 34
        }
      },
      "source": [
        "%timeit data_sample['action_impl'] = apply_impl(data_sample)"
      ],
      "execution_count": null,
      "outputs": [
        {
          "output_type": "stream",
          "text": [
            "1 loop, best of 3: 1.75 s per loop\n"
          ],
          "name": "stdout"
        }
      ]
    },
    {
      "cell_type": "markdown",
      "metadata": {
        "id": "XgfEOC0GhMML"
      },
      "source": [
        "### Method 5: List Comprehension"
      ]
    },
    {
      "cell_type": "code",
      "metadata": {
        "id": "EW0UvK5UsEJ2"
      },
      "source": [
        "def list_impl(df):\n",
        "  cutoff_date = datetime.date.today() + datetime.timedelta(days=2)\n",
        "  return pd.Series([\n",
        "    eisenhower_action(priority == 'HIGH', due_date <= cutoff_date)\n",
        "    for (priority, due_date) in zip(df['priority'], df['due_date'])\n",
        "  ])"
      ],
      "execution_count": null,
      "outputs": []
    },
    {
      "cell_type": "code",
      "metadata": {
        "id": "BEAqo7hxxZ21",
        "outputId": "2cc0bcb2-a2e9-40dd-a870-dc45645a7f26",
        "colab": {
          "base_uri": "https://localhost:8080/",
          "height": 34
        }
      },
      "source": [
        "%timeit data_sample['action_list'] = list_impl(data_sample)"
      ],
      "execution_count": null,
      "outputs": [
        {
          "output_type": "stream",
          "text": [
            "10 loops, best of 3: 70.7 ms per loop\n"
          ],
          "name": "stdout"
        }
      ]
    },
    {
      "cell_type": "markdown",
      "metadata": {
        "id": "kPdjc4cery0V"
      },
      "source": [
        "### Method 6: *Vectorization*"
      ]
    },
    {
      "cell_type": "code",
      "metadata": {
        "id": "9blk7rtir4IM"
      },
      "source": [
        "def vec_impl(df):\n",
        "  cutoff_date = datetime.date.today() + datetime.timedelta(days=2)\n",
        "  return (2*(df['priority'] == 'HIGH') + (df['due_date'] <= cutoff_date))"
      ],
      "execution_count": null,
      "outputs": []
    },
    {
      "cell_type": "code",
      "metadata": {
        "id": "hFhrzXfB5qxj",
        "outputId": "1001465d-2b9b-4cf7-a42d-5703fa2f8f56",
        "colab": {
          "base_uri": "https://localhost:8080/",
          "height": 34
        }
      },
      "source": [
        "%timeit data_sample['action_vec'] = vec_impl(data_sample)"
      ],
      "execution_count": null,
      "outputs": [
        {
          "output_type": "stream",
          "text": [
            "100 loops, best of 3: 19.5 ms per loop\n"
          ],
          "name": "stdout"
        }
      ]
    },
    {
      "cell_type": "markdown",
      "metadata": {
        "id": "_TZMFYH1MNCL"
      },
      "source": [
        "### Test Correctness"
      ]
    },
    {
      "cell_type": "code",
      "metadata": {
        "id": "5XMIXhq-MRqZ",
        "outputId": "8cf5b5ff-f628-4686-e4f5-58f2eb499830",
        "colab": {
          "base_uri": "https://localhost:8080/",
          "height": 49
        }
      },
      "source": [
        "data_sample[data_sample['action_loop'] != data_sample['action_iterrow']]"
      ],
      "execution_count": null,
      "outputs": [
        {
          "output_type": "execute_result",
          "data": {
            "text/html": [
              "<div>\n",
              "<style scoped>\n",
              "    .dataframe tbody tr th:only-of-type {\n",
              "        vertical-align: middle;\n",
              "    }\n",
              "\n",
              "    .dataframe tbody tr th {\n",
              "        vertical-align: top;\n",
              "    }\n",
              "\n",
              "    .dataframe thead th {\n",
              "        text-align: right;\n",
              "    }\n",
              "</style>\n",
              "<table border=\"1\" class=\"dataframe\">\n",
              "  <thead>\n",
              "    <tr style=\"text-align: right;\">\n",
              "      <th></th>\n",
              "      <th>task_name</th>\n",
              "      <th>due_date</th>\n",
              "      <th>priority</th>\n",
              "      <th>action_loop</th>\n",
              "      <th>action_iterrow</th>\n",
              "      <th>action_itertuples</th>\n",
              "      <th>action_impl</th>\n",
              "      <th>action_list</th>\n",
              "      <th>action_vec</th>\n",
              "    </tr>\n",
              "  </thead>\n",
              "  <tbody>\n",
              "  </tbody>\n",
              "</table>\n",
              "</div>"
            ],
            "text/plain": [
              "Empty DataFrame\n",
              "Columns: [task_name, due_date, priority, action_loop, action_iterrow, action_itertuples, action_impl, action_list, action_vec]\n",
              "Index: []"
            ]
          },
          "metadata": {
            "tags": []
          },
          "execution_count": 38
        }
      ]
    },
    {
      "cell_type": "code",
      "metadata": {
        "id": "meji8zshSJQ9",
        "outputId": "a12f3f96-6164-4c1c-ab1f-c8c16349ab03",
        "colab": {
          "base_uri": "https://localhost:8080/",
          "height": 49
        }
      },
      "source": [
        "data_sample[data_sample['action_loop'] != data_sample['action_itertuples']]"
      ],
      "execution_count": null,
      "outputs": [
        {
          "output_type": "execute_result",
          "data": {
            "text/html": [
              "<div>\n",
              "<style scoped>\n",
              "    .dataframe tbody tr th:only-of-type {\n",
              "        vertical-align: middle;\n",
              "    }\n",
              "\n",
              "    .dataframe tbody tr th {\n",
              "        vertical-align: top;\n",
              "    }\n",
              "\n",
              "    .dataframe thead th {\n",
              "        text-align: right;\n",
              "    }\n",
              "</style>\n",
              "<table border=\"1\" class=\"dataframe\">\n",
              "  <thead>\n",
              "    <tr style=\"text-align: right;\">\n",
              "      <th></th>\n",
              "      <th>task_name</th>\n",
              "      <th>due_date</th>\n",
              "      <th>priority</th>\n",
              "      <th>action_loop</th>\n",
              "      <th>action_iterrow</th>\n",
              "      <th>action_itertuples</th>\n",
              "      <th>action_impl</th>\n",
              "      <th>action_list</th>\n",
              "      <th>action_vec</th>\n",
              "    </tr>\n",
              "  </thead>\n",
              "  <tbody>\n",
              "  </tbody>\n",
              "</table>\n",
              "</div>"
            ],
            "text/plain": [
              "Empty DataFrame\n",
              "Columns: [task_name, due_date, priority, action_loop, action_iterrow, action_itertuples, action_impl, action_list, action_vec]\n",
              "Index: []"
            ]
          },
          "metadata": {
            "tags": []
          },
          "execution_count": 39
        }
      ]
    },
    {
      "cell_type": "code",
      "metadata": {
        "id": "NNcGmoNBSNrk",
        "outputId": "2d388639-2228-4645-e0b5-4e59521e91a6",
        "colab": {
          "base_uri": "https://localhost:8080/",
          "height": 49
        }
      },
      "source": [
        "data_sample[data_sample['action_loop'] != data_sample['action_impl']]"
      ],
      "execution_count": null,
      "outputs": [
        {
          "output_type": "execute_result",
          "data": {
            "text/html": [
              "<div>\n",
              "<style scoped>\n",
              "    .dataframe tbody tr th:only-of-type {\n",
              "        vertical-align: middle;\n",
              "    }\n",
              "\n",
              "    .dataframe tbody tr th {\n",
              "        vertical-align: top;\n",
              "    }\n",
              "\n",
              "    .dataframe thead th {\n",
              "        text-align: right;\n",
              "    }\n",
              "</style>\n",
              "<table border=\"1\" class=\"dataframe\">\n",
              "  <thead>\n",
              "    <tr style=\"text-align: right;\">\n",
              "      <th></th>\n",
              "      <th>task_name</th>\n",
              "      <th>due_date</th>\n",
              "      <th>priority</th>\n",
              "      <th>action_loop</th>\n",
              "      <th>action_iterrow</th>\n",
              "      <th>action_itertuples</th>\n",
              "      <th>action_impl</th>\n",
              "      <th>action_list</th>\n",
              "      <th>action_vec</th>\n",
              "    </tr>\n",
              "  </thead>\n",
              "  <tbody>\n",
              "  </tbody>\n",
              "</table>\n",
              "</div>"
            ],
            "text/plain": [
              "Empty DataFrame\n",
              "Columns: [task_name, due_date, priority, action_loop, action_iterrow, action_itertuples, action_impl, action_list, action_vec]\n",
              "Index: []"
            ]
          },
          "metadata": {
            "tags": []
          },
          "execution_count": 40
        }
      ]
    },
    {
      "cell_type": "code",
      "metadata": {
        "id": "K_R1niJ1SQau",
        "outputId": "e88e0ad6-2b96-44cf-db85-6fe9a0e92651",
        "colab": {
          "base_uri": "https://localhost:8080/",
          "height": 49
        }
      },
      "source": [
        "data_sample[data_sample['action_loop'] != data_sample['action_list']]"
      ],
      "execution_count": null,
      "outputs": [
        {
          "output_type": "execute_result",
          "data": {
            "text/html": [
              "<div>\n",
              "<style scoped>\n",
              "    .dataframe tbody tr th:only-of-type {\n",
              "        vertical-align: middle;\n",
              "    }\n",
              "\n",
              "    .dataframe tbody tr th {\n",
              "        vertical-align: top;\n",
              "    }\n",
              "\n",
              "    .dataframe thead th {\n",
              "        text-align: right;\n",
              "    }\n",
              "</style>\n",
              "<table border=\"1\" class=\"dataframe\">\n",
              "  <thead>\n",
              "    <tr style=\"text-align: right;\">\n",
              "      <th></th>\n",
              "      <th>task_name</th>\n",
              "      <th>due_date</th>\n",
              "      <th>priority</th>\n",
              "      <th>action_loop</th>\n",
              "      <th>action_iterrow</th>\n",
              "      <th>action_itertuples</th>\n",
              "      <th>action_impl</th>\n",
              "      <th>action_list</th>\n",
              "      <th>action_vec</th>\n",
              "    </tr>\n",
              "  </thead>\n",
              "  <tbody>\n",
              "  </tbody>\n",
              "</table>\n",
              "</div>"
            ],
            "text/plain": [
              "Empty DataFrame\n",
              "Columns: [task_name, due_date, priority, action_loop, action_iterrow, action_itertuples, action_impl, action_list, action_vec]\n",
              "Index: []"
            ]
          },
          "metadata": {
            "tags": []
          },
          "execution_count": 41
        }
      ]
    },
    {
      "cell_type": "code",
      "metadata": {
        "id": "VHC4BAjpSRGk",
        "outputId": "f101e74d-5b35-4695-c928-916717cadb84",
        "colab": {
          "base_uri": "https://localhost:8080/",
          "height": 49
        }
      },
      "source": [
        "data_sample[data_sample['action_loop'] != data_sample['action_vec']]"
      ],
      "execution_count": null,
      "outputs": [
        {
          "output_type": "execute_result",
          "data": {
            "text/html": [
              "<div>\n",
              "<style scoped>\n",
              "    .dataframe tbody tr th:only-of-type {\n",
              "        vertical-align: middle;\n",
              "    }\n",
              "\n",
              "    .dataframe tbody tr th {\n",
              "        vertical-align: top;\n",
              "    }\n",
              "\n",
              "    .dataframe thead th {\n",
              "        text-align: right;\n",
              "    }\n",
              "</style>\n",
              "<table border=\"1\" class=\"dataframe\">\n",
              "  <thead>\n",
              "    <tr style=\"text-align: right;\">\n",
              "      <th></th>\n",
              "      <th>task_name</th>\n",
              "      <th>due_date</th>\n",
              "      <th>priority</th>\n",
              "      <th>action_loop</th>\n",
              "      <th>action_iterrow</th>\n",
              "      <th>action_itertuples</th>\n",
              "      <th>action_impl</th>\n",
              "      <th>action_list</th>\n",
              "      <th>action_vec</th>\n",
              "    </tr>\n",
              "  </thead>\n",
              "  <tbody>\n",
              "  </tbody>\n",
              "</table>\n",
              "</div>"
            ],
            "text/plain": [
              "Empty DataFrame\n",
              "Columns: [task_name, due_date, priority, action_loop, action_iterrow, action_itertuples, action_impl, action_list, action_vec]\n",
              "Index: []"
            ]
          },
          "metadata": {
            "tags": []
          },
          "execution_count": 42
        }
      ]
    },
    {
      "cell_type": "markdown",
      "metadata": {
        "id": "Lfcfp6pu-2J6"
      },
      "source": [
        "## Plot Performance Over DataFrame Size\n"
      ]
    },
    {
      "cell_type": "code",
      "metadata": {
        "id": "rgPwgV5w_CFx",
        "outputId": "7d097a12-0a68-412d-edd3-81ddb2718cb6",
        "colab": {
          "base_uri": "https://localhost:8080/",
          "height": 299
        }
      },
      "source": [
        "kernels = [\n",
        "  loop_impl,\n",
        "  iterrows_impl,\n",
        "  itertuples_impl,\n",
        "  apply_impl,\n",
        "  list_impl,\n",
        "  vec_impl\n",
        "]\n",
        "\n",
        "labels = [str(k.__name__)[:-5] for k in kernels]\n",
        "\n",
        "perfplot.show(\n",
        "  setup=lambda n: test_data_sample(n),\n",
        "  kernels=kernels,\n",
        "  labels=labels,\n",
        "  n_range=[2**k for k in range(20)],\n",
        "  xlabel='N',\n",
        "  logx=True,\n",
        "  logy=True,\n",
        "  #equality_check=None\n",
        ")"
      ],
      "execution_count": null,
      "outputs": [
        {
          "output_type": "display_data",
          "data": {
            "image/png": "[encoded data removed]",
            "text/plain": [
              "<Figure size 432x288 with 1 Axes>"
            ]
          },
          "metadata": {
            "tags": [],
            "needs_background": "dark"
          }
        }
      ]
    },
    {
      "cell_type": "markdown",
      "metadata": {
        "id": "tq3Ki7Q0--LT"
      },
      "source": [
        "## Summary"
      ]
    },
    {
      "cell_type": "markdown",
      "metadata": {
        "id": "3yYtmsUmWiEu"
      },
      "source": [
        "Performance Comparision:\n",
        "\n",
        "| Method             | Time (s) |\n",
        "| ------------------ | -------: | \n",
        "| Python Loop        |  37.5000 |\n",
        "| iterrow()          |   9.5900 |\n",
        "| apply()            |   1.7500 |\n",
        "| itertuples()       |   0.1780 |\n",
        "| List Comprehension |   0.0707 |\n",
        "| Vectorization      |   0.0195 |"
      ]
    }
  ]
}