{
  "nbformat": 4,
  "nbformat_minor": 0,
  "metadata": {
    "colab": {
      "name": "pandas-apply-fn-on-dataframe.ipynb",
      "provenance": [],
      "collapsed_sections": [],
      "authorship_tag": "ABX9TyMrGEk8oKkxKJ4AzS9iZxeC",
      "include_colab_link": true
    },
    "kernelspec": {
      "name": "python3",
      "display_name": "Python 3"
    }
  },
  "cells": [
    {
      "cell_type": "markdown",
      "metadata": {
        "id": "view-in-github",
        "colab_type": "text"
      },
      "source": [
        "<a href=\"https://colab.research.google.com/github/scgupta/yearn2learn/blob/master/ml/pandas/pandas_apply_fn_on_dataframe.ipynb\" target=\"_parent\"><img src=\"https://colab.research.google.com/assets/colab-badge.svg\" alt=\"Open In Colab\"/></a>"
      ]
    },
    {
      "cell_type": "markdown",
      "metadata": {
        "id": "SSyUJQr70wl2"
      },
      "source": [
        "# How to efficently apply a function to Pandas Dataframe rows\n",
        "\n",
        "Blog post: [Best Way to Apply a Function to Each Row in Pandas DataFrame](https://medium.com/@scgupta/apply-function-to-pandas-dataframe-rows-76df74165ee4)"
      ]
    },
    {
      "cell_type": "markdown",
      "metadata": {
        "id": "Jiwj6K9a7Zuq"
      },
      "source": [
        "## Setup\n",
        "\n",
        "Install needed libs and import modules."
      ]
    },
    {
      "cell_type": "code",
      "metadata": {
        "id": "8VM04L0t7dor"
      },
      "source": [
        "!pip install \\\n",
        "    datetime pandas numpy \\\n",
        "    faker line_profiler perfplot \\\n",
        "    numba pandarallel dask[dataframe] swifter \\\n",
        "    &> /dev/null"
      ],
      "execution_count": 1,
      "outputs": []
    },
    {
      "cell_type": "code",
      "metadata": {
        "id": "M6jDUCigwMuQ"
      },
      "source": [
        "%load_ext line_profiler"
      ],
      "execution_count": 2,
      "outputs": []
    },
    {
      "cell_type": "code",
      "metadata": {
        "id": "Zx98I0FB0gtv"
      },
      "source": [
        "import numpy as np\n",
        "import pandas as pd\n",
        "import datetime\n",
        "import perfplot\n",
        "\n",
        "from faker import Faker"
      ],
      "execution_count": 3,
      "outputs": []
    },
    {
      "cell_type": "code",
      "metadata": {
        "id": "KlR_iCmAQAQx",
        "outputId": "127361ba-2f7f-4073-9f31-a1bac265100e",
        "colab": {
          "base_uri": "https://localhost:8080/",
          "height": 452
        }
      },
      "source": [
        "!lscpu"
      ],
      "execution_count": 4,
      "outputs": [
        {
          "output_type": "stream",
          "text": [
            "Architecture:        x86_64\n",
            "CPU op-mode(s):      32-bit, 64-bit\n",
            "Byte Order:          Little Endian\n",
            "CPU(s):              2\n",
            "On-line CPU(s) list: 0,1\n",
            "Thread(s) per core:  2\n",
            "Core(s) per socket:  1\n",
            "Socket(s):           1\n",
            "NUMA node(s):        1\n",
            "Vendor ID:           GenuineIntel\n",
            "CPU family:          6\n",
            "Model:               63\n",
            "Model name:          Intel(R) Xeon(R) CPU @ 2.30GHz\n",
            "Stepping:            0\n",
            "CPU MHz:             2300.000\n",
            "BogoMIPS:            4600.00\n",
            "Hypervisor vendor:   KVM\n",
            "Virtualization type: full\n",
            "L1d cache:           32K\n",
            "L1i cache:           32K\n",
            "L2 cache:            256K\n",
            "L3 cache:            46080K\n",
            "NUMA node0 CPU(s):   0,1\n",
            "Flags:               fpu vme de pse tsc msr pae mce cx8 apic sep mtrr pge mca cmov pat pse36 clflush mmx fxsr sse sse2 ss ht syscall nx pdpe1gb rdtscp lm constant_tsc rep_good nopl xtopology nonstop_tsc cpuid tsc_known_freq pni pclmulqdq ssse3 fma cx16 pcid sse4_1 sse4_2 x2apic movbe popcnt aes xsave avx f16c rdrand hypervisor lahf_lm abm invpcid_single ssbd ibrs ibpb stibp fsgsbase tsc_adjust bmi1 avx2 smep bmi2 erms invpcid xsaveopt arat md_clear arch_capabilities\n"
          ],
          "name": "stdout"
        }
      ]
    },
    {
      "cell_type": "code",
      "metadata": {
        "id": "KGx3VA0FP2yG",
        "outputId": "f1e8e703-3309-4d39-da8d-befa3fb0b546",
        "colab": {
          "base_uri": "https://localhost:8080/",
          "height": 35
        }
      },
      "source": [
        "import multiprocessing\n",
        "\n",
        "CPU_COUNT = multiprocessing.cpu_count()\n",
        "\n",
        "CPU_COUNT"
      ],
      "execution_count": 5,
      "outputs": [
        {
          "output_type": "execute_result",
          "data": {
            "text/plain": [
              "2"
            ]
          },
          "metadata": {
            "tags": []
          },
          "execution_count": 5
        }
      ]
    },
    {
      "cell_type": "markdown",
      "metadata": {
        "id": "_0IL8WfzMbui"
      },
      "source": [
        "## Test Data\n",
        "\n",
        "In real life, this data would be read from a CSV file or a data store. But for this tutorial, generating test data to keep it simple."
      ]
    },
    {
      "cell_type": "code",
      "metadata": {
        "id": "VkMVQnxVMYoK"
      },
      "source": [
        "def generate_test_data(size: int, days: int = 30):\n",
        "  fake = Faker()\n",
        "  Faker.seed(42)\n",
        "\n",
        "  PRIORITIES = {\n",
        "    0: 'HIGH',\n",
        "    1: 'MEDIUM',\n",
        "    2: 'LOW'\n",
        "  }\n",
        "\n",
        "  return pd.DataFrame({\n",
        "    'task_name': [\n",
        "      f'Task {i + 1}'\n",
        "      for i in range(size)\n",
        "    ],\n",
        "    'due_date': [\n",
        "      fake.date_between(start_date='today', end_date=f'+{days}d')\n",
        "      for _ in range(size)\n",
        "    ],\n",
        "    'priority': [\n",
        "      PRIORITIES[fake.pyint(min_value=0, max_value=(len(PRIORITIES) - 1))]\n",
        "      for i in range(size)\n",
        "    ]\n",
        "  })\n"
      ],
      "execution_count": 6,
      "outputs": []
    },
    {
      "cell_type": "code",
      "metadata": {
        "id": "UhWpIMDNIc2-",
        "outputId": "16de98ec-2a86-4f81-c3a8-8bd5f8cb4123",
        "colab": {
          "base_uri": "https://localhost:8080/",
          "height": 521
        }
      },
      "source": [
        "# Try generate_test_data\n",
        "tmp_df = generate_test_data(10, 5)\n",
        "tmp_df.info()\n",
        "tmp_df.head(10)"
      ],
      "execution_count": 7,
      "outputs": [
        {
          "output_type": "stream",
          "text": [
            "<class 'pandas.core.frame.DataFrame'>\n",
            "RangeIndex: 10 entries, 0 to 9\n",
            "Data columns (total 3 columns):\n",
            " #   Column     Non-Null Count  Dtype \n",
            "---  ------     --------------  ----- \n",
            " 0   task_name  10 non-null     object\n",
            " 1   due_date   10 non-null     object\n",
            " 2   priority   10 non-null     object\n",
            "dtypes: object(3)\n",
            "memory usage: 368.0+ bytes\n"
          ],
          "name": "stdout"
        },
        {
          "output_type": "execute_result",
          "data": {
            "text/html": [
              "<div>\n",
              "<style scoped>\n",
              "    .dataframe tbody tr th:only-of-type {\n",
              "        vertical-align: middle;\n",
              "    }\n",
              "\n",
              "    .dataframe tbody tr th {\n",
              "        vertical-align: top;\n",
              "    }\n",
              "\n",
              "    .dataframe thead th {\n",
              "        text-align: right;\n",
              "    }\n",
              "</style>\n",
              "<table border=\"1\" class=\"dataframe\">\n",
              "  <thead>\n",
              "    <tr style=\"text-align: right;\">\n",
              "      <th></th>\n",
              "      <th>task_name</th>\n",
              "      <th>due_date</th>\n",
              "      <th>priority</th>\n",
              "    </tr>\n",
              "  </thead>\n",
              "  <tbody>\n",
              "    <tr>\n",
              "      <th>0</th>\n",
              "      <td>Task 1</td>\n",
              "      <td>2020-10-29</td>\n",
              "      <td>LOW</td>\n",
              "    </tr>\n",
              "    <tr>\n",
              "      <th>1</th>\n",
              "      <td>Task 2</td>\n",
              "      <td>2020-10-26</td>\n",
              "      <td>LOW</td>\n",
              "    </tr>\n",
              "    <tr>\n",
              "      <th>2</th>\n",
              "      <td>Task 3</td>\n",
              "      <td>2020-10-26</td>\n",
              "      <td>LOW</td>\n",
              "    </tr>\n",
              "    <tr>\n",
              "      <th>3</th>\n",
              "      <td>Task 4</td>\n",
              "      <td>2020-10-30</td>\n",
              "      <td>HIGH</td>\n",
              "    </tr>\n",
              "    <tr>\n",
              "      <th>4</th>\n",
              "      <td>Task 5</td>\n",
              "      <td>2020-10-27</td>\n",
              "      <td>LOW</td>\n",
              "    </tr>\n",
              "    <tr>\n",
              "      <th>5</th>\n",
              "      <td>Task 6</td>\n",
              "      <td>2020-10-27</td>\n",
              "      <td>MEDIUM</td>\n",
              "    </tr>\n",
              "    <tr>\n",
              "      <th>6</th>\n",
              "      <td>Task 7</td>\n",
              "      <td>2020-10-27</td>\n",
              "      <td>HIGH</td>\n",
              "    </tr>\n",
              "    <tr>\n",
              "      <th>7</th>\n",
              "      <td>Task 8</td>\n",
              "      <td>2020-10-26</td>\n",
              "      <td>HIGH</td>\n",
              "    </tr>\n",
              "    <tr>\n",
              "      <th>8</th>\n",
              "      <td>Task 9</td>\n",
              "      <td>2020-10-30</td>\n",
              "      <td>HIGH</td>\n",
              "    </tr>\n",
              "    <tr>\n",
              "      <th>9</th>\n",
              "      <td>Task 10</td>\n",
              "      <td>2020-10-26</td>\n",
              "      <td>HIGH</td>\n",
              "    </tr>\n",
              "  </tbody>\n",
              "</table>\n",
              "</div>"
            ],
            "text/plain": [
              "  task_name    due_date priority\n",
              "0    Task 1  2020-10-29      LOW\n",
              "1    Task 2  2020-10-26      LOW\n",
              "2    Task 3  2020-10-26      LOW\n",
              "3    Task 4  2020-10-30     HIGH\n",
              "4    Task 5  2020-10-27      LOW\n",
              "5    Task 6  2020-10-27   MEDIUM\n",
              "6    Task 7  2020-10-27     HIGH\n",
              "7    Task 8  2020-10-26     HIGH\n",
              "8    Task 9  2020-10-30     HIGH\n",
              "9   Task 10  2020-10-26     HIGH"
            ]
          },
          "metadata": {
            "tags": []
          },
          "execution_count": 7
        }
      ]
    },
    {
      "cell_type": "code",
      "metadata": {
        "id": "RuQ8EIoeb9hK",
        "outputId": "5203beab-1c5d-4290-d213-829a95f898b2",
        "colab": {
          "base_uri": "https://localhost:8080/",
          "height": 35
        }
      },
      "source": [
        "tmp_df['task_name'].loc[0]"
      ],
      "execution_count": 8,
      "outputs": [
        {
          "output_type": "execute_result",
          "data": {
            "application/vnd.google.colaboratory.intrinsic+json": {
              "type": "string"
            },
            "text/plain": [
              "'Task 1'"
            ]
          },
          "metadata": {
            "tags": []
          },
          "execution_count": 8
        }
      ]
    },
    {
      "cell_type": "code",
      "metadata": {
        "id": "QIlB4k22CQZl",
        "outputId": "dbdfa267-598f-433a-ca23-2551ebdc3fc2",
        "colab": {
          "base_uri": "https://localhost:8080/",
          "height": 35
        }
      },
      "source": [
        "tmp_df['due_date'].loc[0]\n",
        "# pd.to_datetime(tmp_df['due_date']).dt.date.loc[0]"
      ],
      "execution_count": 9,
      "outputs": [
        {
          "output_type": "execute_result",
          "data": {
            "text/plain": [
              "datetime.date(2020, 10, 29)"
            ]
          },
          "metadata": {
            "tags": []
          },
          "execution_count": 9
        }
      ]
    },
    {
      "cell_type": "code",
      "metadata": {
        "id": "Uowr-JbbcDDY",
        "outputId": "5b828a63-5873-49c3-acfb-0f9ff776e68d",
        "colab": {
          "base_uri": "https://localhost:8080/",
          "height": 35
        }
      },
      "source": [
        "tmp_df['priority'].loc[0]"
      ],
      "execution_count": 10,
      "outputs": [
        {
          "output_type": "execute_result",
          "data": {
            "application/vnd.google.colaboratory.intrinsic+json": {
              "type": "string"
            },
            "text/plain": [
              "'LOW'"
            ]
          },
          "metadata": {
            "tags": []
          },
          "execution_count": 10
        }
      ]
    },
    {
      "cell_type": "markdown",
      "metadata": {
        "id": "i3i4ZSQSdGUD"
      },
      "source": [
        "### Generate Test Dataset"
      ]
    },
    {
      "cell_type": "code",
      "metadata": {
        "id": "jsRezhLNdWK6"
      },
      "source": [
        "# Generate a million rows. Use sample from it to create various size data sets\n",
        "# Will take some time as Faker will be called sequencially.\n",
        "test_data_set = generate_test_data(1000000, 90)"
      ],
      "execution_count": 11,
      "outputs": []
    },
    {
      "cell_type": "code",
      "metadata": {
        "id": "ApFngawExp-E",
        "outputId": "c5a9cc1a-c692-493e-cfbc-1ce5fdfd71c2",
        "colab": {
          "base_uri": "https://localhost:8080/",
          "height": 198
        }
      },
      "source": [
        "test_data_set.head(5)"
      ],
      "execution_count": 12,
      "outputs": [
        {
          "output_type": "execute_result",
          "data": {
            "text/html": [
              "<div>\n",
              "<style scoped>\n",
              "    .dataframe tbody tr th:only-of-type {\n",
              "        vertical-align: middle;\n",
              "    }\n",
              "\n",
              "    .dataframe tbody tr th {\n",
              "        vertical-align: top;\n",
              "    }\n",
              "\n",
              "    .dataframe thead th {\n",
              "        text-align: right;\n",
              "    }\n",
              "</style>\n",
              "<table border=\"1\" class=\"dataframe\">\n",
              "  <thead>\n",
              "    <tr style=\"text-align: right;\">\n",
              "      <th></th>\n",
              "      <th>task_name</th>\n",
              "      <th>due_date</th>\n",
              "      <th>priority</th>\n",
              "    </tr>\n",
              "  </thead>\n",
              "  <tbody>\n",
              "    <tr>\n",
              "      <th>0</th>\n",
              "      <td>Task 1</td>\n",
              "      <td>2020-12-27</td>\n",
              "      <td>HIGH</td>\n",
              "    </tr>\n",
              "    <tr>\n",
              "      <th>1</th>\n",
              "      <td>Task 2</td>\n",
              "      <td>2020-11-05</td>\n",
              "      <td>LOW</td>\n",
              "    </tr>\n",
              "    <tr>\n",
              "      <th>2</th>\n",
              "      <td>Task 3</td>\n",
              "      <td>2020-10-28</td>\n",
              "      <td>LOW</td>\n",
              "    </tr>\n",
              "    <tr>\n",
              "      <th>3</th>\n",
              "      <td>Task 4</td>\n",
              "      <td>2021-01-05</td>\n",
              "      <td>MEDIUM</td>\n",
              "    </tr>\n",
              "    <tr>\n",
              "      <th>4</th>\n",
              "      <td>Task 5</td>\n",
              "      <td>2020-11-21</td>\n",
              "      <td>HIGH</td>\n",
              "    </tr>\n",
              "  </tbody>\n",
              "</table>\n",
              "</div>"
            ],
            "text/plain": [
              "  task_name    due_date priority\n",
              "0    Task 1  2020-12-27     HIGH\n",
              "1    Task 2  2020-11-05      LOW\n",
              "2    Task 3  2020-10-28      LOW\n",
              "3    Task 4  2021-01-05   MEDIUM\n",
              "4    Task 5  2020-11-21     HIGH"
            ]
          },
          "metadata": {
            "tags": []
          },
          "execution_count": 12
        }
      ]
    },
    {
      "cell_type": "code",
      "metadata": {
        "id": "xcNRQLUJPHpC"
      },
      "source": [
        "def test_data_sample(size: int):\n",
        "  return test_data_set.sample(n=size).copy().reset_index(drop=True)"
      ],
      "execution_count": 13,
      "outputs": []
    },
    {
      "cell_type": "code",
      "metadata": {
        "id": "DyP1e_64eFVz",
        "outputId": "411e4f44-c045-4ddc-a1a8-10b6a3bc9813",
        "colab": {
          "base_uri": "https://localhost:8080/",
          "height": 198
        }
      },
      "source": [
        "# Test sample of size 10\n",
        "test_data_sample(10).head(5)"
      ],
      "execution_count": 14,
      "outputs": [
        {
          "output_type": "execute_result",
          "data": {
            "text/html": [
              "<div>\n",
              "<style scoped>\n",
              "    .dataframe tbody tr th:only-of-type {\n",
              "        vertical-align: middle;\n",
              "    }\n",
              "\n",
              "    .dataframe tbody tr th {\n",
              "        vertical-align: top;\n",
              "    }\n",
              "\n",
              "    .dataframe thead th {\n",
              "        text-align: right;\n",
              "    }\n",
              "</style>\n",
              "<table border=\"1\" class=\"dataframe\">\n",
              "  <thead>\n",
              "    <tr style=\"text-align: right;\">\n",
              "      <th></th>\n",
              "      <th>task_name</th>\n",
              "      <th>due_date</th>\n",
              "      <th>priority</th>\n",
              "    </tr>\n",
              "  </thead>\n",
              "  <tbody>\n",
              "    <tr>\n",
              "      <th>0</th>\n",
              "      <td>Task 13852</td>\n",
              "      <td>2020-11-05</td>\n",
              "      <td>LOW</td>\n",
              "    </tr>\n",
              "    <tr>\n",
              "      <th>1</th>\n",
              "      <td>Task 937621</td>\n",
              "      <td>2021-01-03</td>\n",
              "      <td>HIGH</td>\n",
              "    </tr>\n",
              "    <tr>\n",
              "      <th>2</th>\n",
              "      <td>Task 263181</td>\n",
              "      <td>2021-01-06</td>\n",
              "      <td>LOW</td>\n",
              "    </tr>\n",
              "    <tr>\n",
              "      <th>3</th>\n",
              "      <td>Task 924953</td>\n",
              "      <td>2020-11-13</td>\n",
              "      <td>LOW</td>\n",
              "    </tr>\n",
              "    <tr>\n",
              "      <th>4</th>\n",
              "      <td>Task 578619</td>\n",
              "      <td>2020-11-28</td>\n",
              "      <td>MEDIUM</td>\n",
              "    </tr>\n",
              "  </tbody>\n",
              "</table>\n",
              "</div>"
            ],
            "text/plain": [
              "     task_name    due_date priority\n",
              "0   Task 13852  2020-11-05      LOW\n",
              "1  Task 937621  2021-01-03     HIGH\n",
              "2  Task 263181  2021-01-06      LOW\n",
              "3  Task 924953  2020-11-13      LOW\n",
              "4  Task 578619  2020-11-28   MEDIUM"
            ]
          },
          "metadata": {
            "tags": []
          },
          "execution_count": 14
        }
      ]
    },
    {
      "cell_type": "code",
      "metadata": {
        "id": "s8FXpGcqzUCg",
        "outputId": "a3af4022-6248-4da9-b6df-d8c454741d9d",
        "colab": {
          "base_uri": "https://localhost:8080/",
          "height": 198
        }
      },
      "source": [
        "test_data_set.head(5)"
      ],
      "execution_count": 15,
      "outputs": [
        {
          "output_type": "execute_result",
          "data": {
            "text/html": [
              "<div>\n",
              "<style scoped>\n",
              "    .dataframe tbody tr th:only-of-type {\n",
              "        vertical-align: middle;\n",
              "    }\n",
              "\n",
              "    .dataframe tbody tr th {\n",
              "        vertical-align: top;\n",
              "    }\n",
              "\n",
              "    .dataframe thead th {\n",
              "        text-align: right;\n",
              "    }\n",
              "</style>\n",
              "<table border=\"1\" class=\"dataframe\">\n",
              "  <thead>\n",
              "    <tr style=\"text-align: right;\">\n",
              "      <th></th>\n",
              "      <th>task_name</th>\n",
              "      <th>due_date</th>\n",
              "      <th>priority</th>\n",
              "    </tr>\n",
              "  </thead>\n",
              "  <tbody>\n",
              "    <tr>\n",
              "      <th>0</th>\n",
              "      <td>Task 1</td>\n",
              "      <td>2020-12-27</td>\n",
              "      <td>HIGH</td>\n",
              "    </tr>\n",
              "    <tr>\n",
              "      <th>1</th>\n",
              "      <td>Task 2</td>\n",
              "      <td>2020-11-05</td>\n",
              "      <td>LOW</td>\n",
              "    </tr>\n",
              "    <tr>\n",
              "      <th>2</th>\n",
              "      <td>Task 3</td>\n",
              "      <td>2020-10-28</td>\n",
              "      <td>LOW</td>\n",
              "    </tr>\n",
              "    <tr>\n",
              "      <th>3</th>\n",
              "      <td>Task 4</td>\n",
              "      <td>2021-01-05</td>\n",
              "      <td>MEDIUM</td>\n",
              "    </tr>\n",
              "    <tr>\n",
              "      <th>4</th>\n",
              "      <td>Task 5</td>\n",
              "      <td>2020-11-21</td>\n",
              "      <td>HIGH</td>\n",
              "    </tr>\n",
              "  </tbody>\n",
              "</table>\n",
              "</div>"
            ],
            "text/plain": [
              "  task_name    due_date priority\n",
              "0    Task 1  2020-12-27     HIGH\n",
              "1    Task 2  2020-11-05      LOW\n",
              "2    Task 3  2020-10-28      LOW\n",
              "3    Task 4  2021-01-05   MEDIUM\n",
              "4    Task 5  2020-11-21     HIGH"
            ]
          },
          "metadata": {
            "tags": []
          },
          "execution_count": 15
        }
      ]
    },
    {
      "cell_type": "markdown",
      "metadata": {
        "id": "dV30ih-zMjZh"
      },
      "source": [
        "## Optimize DataFrame Storage\n",
        "\n",
        "Compacting the data not only saves space, but also speeds up the processing. Two common opportunities are:\n",
        "\n",
        "- Converting timestamp strings or datetime to [datetime64](https://pandas.pydata.org/pandas-docs/stable/user_guide/timeseries.html)\n",
        "- Converting strings of enum types to [Categorical](https://pandas.pydata.org/pandas-docs/stable/user_guide/categorical.html) data type\n",
        "\n",
        "For fair comparision, compression test data to max extent possible."
      ]
    },
    {
      "cell_type": "code",
      "metadata": {
        "id": "pyIn47WiMrHK",
        "outputId": "d2f994df-6457-45cd-9f07-8e6abcc4b46d",
        "colab": {
          "base_uri": "https://localhost:8080/",
          "height": 190
        }
      },
      "source": [
        "test_data_set.info()"
      ],
      "execution_count": 16,
      "outputs": [
        {
          "output_type": "stream",
          "text": [
            "<class 'pandas.core.frame.DataFrame'>\n",
            "RangeIndex: 1000000 entries, 0 to 999999\n",
            "Data columns (total 3 columns):\n",
            " #   Column     Non-Null Count    Dtype \n",
            "---  ------     --------------    ----- \n",
            " 0   task_name  1000000 non-null  object\n",
            " 1   due_date   1000000 non-null  object\n",
            " 2   priority   1000000 non-null  object\n",
            "dtypes: object(3)\n",
            "memory usage: 22.9+ MB\n"
          ],
          "name": "stdout"
        }
      ]
    },
    {
      "cell_type": "code",
      "metadata": {
        "id": "8JnGXQNKaa8B"
      },
      "source": [
        "priority_dtype = pd.api.types.CategoricalDtype(\n",
        "  categories=['LOW', 'MEDIUM', 'HIGH'],\n",
        "  ordered=True\n",
        ")"
      ],
      "execution_count": 17,
      "outputs": []
    },
    {
      "cell_type": "code",
      "metadata": {
        "id": "08OvgJZL-s8s",
        "outputId": "d8db01ee-03ee-47dc-c3e4-b3c84501f421",
        "colab": {
          "base_uri": "https://localhost:8080/",
          "height": 35
        }
      },
      "source": [
        "priority_map = dict(enumerate(pd.Series(['']).astype(priority_dtype).cat.categories))\n",
        "priority_map"
      ],
      "execution_count": 18,
      "outputs": [
        {
          "output_type": "execute_result",
          "data": {
            "text/plain": [
              "{0: 'LOW', 1: 'MEDIUM', 2: 'HIGH'}"
            ]
          },
          "metadata": {
            "tags": []
          },
          "execution_count": 18
        }
      ]
    },
    {
      "cell_type": "code",
      "metadata": {
        "id": "Pv5F5MnHiqrA",
        "outputId": "59be28a6-0f44-4924-a952-861cfbfdb1d1",
        "colab": {
          "base_uri": "https://localhost:8080/",
          "height": 190
        }
      },
      "source": [
        "test_data_set['priority'] = test_data_set['priority'].astype(priority_dtype)\n",
        "test_data_set.info()"
      ],
      "execution_count": 19,
      "outputs": [
        {
          "output_type": "stream",
          "text": [
            "<class 'pandas.core.frame.DataFrame'>\n",
            "RangeIndex: 1000000 entries, 0 to 999999\n",
            "Data columns (total 3 columns):\n",
            " #   Column     Non-Null Count    Dtype   \n",
            "---  ------     --------------    -----   \n",
            " 0   task_name  1000000 non-null  object  \n",
            " 1   due_date   1000000 non-null  object  \n",
            " 2   priority   1000000 non-null  category\n",
            "dtypes: category(1), object(2)\n",
            "memory usage: 16.2+ MB\n"
          ],
          "name": "stdout"
        }
      ]
    },
    {
      "cell_type": "code",
      "metadata": {
        "id": "AYjdRWmYoGSx",
        "outputId": "8ce40d7a-6088-4b61-fba1-7ec90379dac9",
        "colab": {
          "base_uri": "https://localhost:8080/",
          "height": 35
        }
      },
      "source": [
        "test_data_set['priority'].loc[0]"
      ],
      "execution_count": 20,
      "outputs": [
        {
          "output_type": "execute_result",
          "data": {
            "application/vnd.google.colaboratory.intrinsic+json": {
              "type": "string"
            },
            "text/plain": [
              "'HIGH'"
            ]
          },
          "metadata": {
            "tags": []
          },
          "execution_count": 20
        }
      ]
    },
    {
      "cell_type": "markdown",
      "metadata": {
        "id": "6aUQ7kNNniA3"
      },
      "source": [
        "Using category for priority reduced the memory usage by ~30%."
      ]
    },
    {
      "cell_type": "markdown",
      "metadata": {
        "id": "mSUlG6gOMvu7"
      },
      "source": [
        "## Optimize DataFrame Processing Time"
      ]
    },
    {
      "cell_type": "markdown",
      "metadata": {
        "id": "kQ0d8vSlHGAW"
      },
      "source": [
        "### The Eisenhower Method\n",
        "\n",
        "Decide about action needed using [Eisenhower method](https://en.wikipedia.org/wiki/Time_management#The_Eisenhower_Method):\n",
        "\n",
        "| Important | Urgent    | Binary | Int | Action   |\n",
        "| --------- | --------- | :----: | :-: | -------- |\n",
        "| True (1)  | True (1)  |   11   |  3  | DO       |\n",
        "| True (1)  | False (0) |   10   |  2  | SCHEDULE |\n",
        "| False (0) | True (1)  |   01   |  1  | DELEGATE |\n",
        "| False (0) | False (0) |   00   |  0  | DELETE   |"
      ]
    },
    {
      "cell_type": "code",
      "metadata": {
        "id": "Y9HmUqc4HYmN"
      },
      "source": [
        "action_dtype = pd.api.types.CategoricalDtype(\n",
        "  categories=['DELETE', 'DELEGATE', 'SCHEDULE', 'DO'],\n",
        "  ordered=True\n",
        ")"
      ],
      "execution_count": 21,
      "outputs": []
    },
    {
      "cell_type": "code",
      "metadata": {
        "id": "-3yHfVqRHZGm",
        "outputId": "fb0eb8e2-1050-44a3-8ac3-8594c55bd865",
        "colab": {
          "base_uri": "https://localhost:8080/",
          "height": 35
        }
      },
      "source": [
        "action_map = dict(enumerate(pd.Series(['']).astype(action_dtype).cat.categories))\n",
        "action_map"
      ],
      "execution_count": 22,
      "outputs": [
        {
          "output_type": "execute_result",
          "data": {
            "text/plain": [
              "{0: 'DELETE', 1: 'DELEGATE', 2: 'SCHEDULE', 3: 'DO'}"
            ]
          },
          "metadata": {
            "tags": []
          },
          "execution_count": 22
        }
      ]
    },
    {
      "cell_type": "code",
      "metadata": {
        "id": "J-ckAXUV0OWB"
      },
      "source": [
        "def eisenhower_action(is_important: bool, is_urgent: bool) -> int:\n",
        "  return 2 * is_important + is_urgent\n",
        "\n",
        "def eisenhower_action_str(is_important: bool, is_urgent: bool) -> str:\n",
        "  return action_map[eisenhower_action(is_important, is_urgent)]"
      ],
      "execution_count": 23,
      "outputs": []
    },
    {
      "cell_type": "code",
      "metadata": {
        "id": "BzVGTCZ4XyUw"
      },
      "source": [
        "# Let's say anything due by tomorrow is Urgent\n",
        "cutoff_date = datetime.date.today() + datetime.timedelta(days=2)"
      ],
      "execution_count": 24,
      "outputs": []
    },
    {
      "cell_type": "code",
      "metadata": {
        "id": "ZrVtS6eX4YdJ",
        "outputId": "3d009fdf-c2cf-4118-dcdd-abd90cc2f422",
        "colab": {
          "base_uri": "https://localhost:8080/",
          "height": 35
        }
      },
      "source": [
        "# Test compute_eisenhower_action\n",
        "\n",
        "eisenhower_action_str(\n",
        "  test_data_set.loc[0].priority == 'HIGH',\n",
        "  test_data_set.loc[0].due_date <= cutoff_date\n",
        ")"
      ],
      "execution_count": 25,
      "outputs": [
        {
          "output_type": "execute_result",
          "data": {
            "application/vnd.google.colaboratory.intrinsic+json": {
              "type": "string"
            },
            "text/plain": [
              "'SCHEDULE'"
            ]
          },
          "metadata": {
            "tags": []
          },
          "execution_count": 25
        }
      ]
    },
    {
      "cell_type": "code",
      "metadata": {
        "id": "Wwy6iBF3Ui8v"
      },
      "source": [
        "# Work with a smaller data set to try each alternative\n",
        "data_sample = test_data_sample(100000)"
      ],
      "execution_count": 26,
      "outputs": []
    },
    {
      "cell_type": "markdown",
      "metadata": {
        "id": "Z30TqS6PQ07E"
      },
      "source": [
        "### Method 1: Loop Over All Rows of a DataFrame"
      ]
    },
    {
      "cell_type": "code",
      "metadata": {
        "id": "JsxOxGu2RQgX"
      },
      "source": [
        "def loop_impl(df):\n",
        "  cutoff_date = datetime.date.today() + datetime.timedelta(days=2)\n",
        "\n",
        "  result = []\n",
        "  for i in range(len(df)):\n",
        "    row = df.iloc[i]\n",
        "    result.append(\n",
        "      eisenhower_action(row.priority == 'HIGH', row.due_date <= cutoff_date)\n",
        "    )\n",
        "\n",
        "  return pd.Series(result)"
      ],
      "execution_count": 27,
      "outputs": []
    },
    {
      "cell_type": "code",
      "metadata": {
        "id": "c9k4BSpRTlVu",
        "outputId": "e3ce2d59-dff6-4da4-b447-3715d04e35bf",
        "colab": {
          "base_uri": "https://localhost:8080/",
          "height": 35
        }
      },
      "source": [
        "%timeit data_sample['action_loop'] = loop_impl(data_sample)"
      ],
      "execution_count": 28,
      "outputs": [
        {
          "output_type": "stream",
          "text": [
            "1 loop, best of 3: 37.9 s per loop\n"
          ],
          "name": "stdout"
        }
      ]
    },
    {
      "cell_type": "code",
      "metadata": {
        "id": "Gfaj7lxELRNf"
      },
      "source": [
        "%lprun -f loop_impl  loop_impl(test_data_sample(100))"
      ],
      "execution_count": 29,
      "outputs": []
    },
    {
      "cell_type": "markdown",
      "metadata": {
        "id": "CtX8RTnMM7uU"
      },
      "source": [
        "### Method 2: Iterate over rows with `iterrows` Function"
      ]
    },
    {
      "cell_type": "code",
      "metadata": {
        "id": "hBXHW8cGRMqV"
      },
      "source": [
        "def iterrows_impl(df):\n",
        "  cutoff_date = datetime.date.today() + datetime.timedelta(days=2)\n",
        "  return pd.Series(\n",
        "    eisenhower_action(row.priority == 'HIGH', row.due_date <= cutoff_date)\n",
        "    for index, row in df.iterrows()\n",
        "  )"
      ],
      "execution_count": 30,
      "outputs": []
    },
    {
      "cell_type": "code",
      "metadata": {
        "id": "08rVStuRNCmh",
        "outputId": "89e894ac-930c-4b3b-f08b-04dec9fac4dc",
        "colab": {
          "base_uri": "https://localhost:8080/",
          "height": 35
        }
      },
      "source": [
        "%timeit data_sample['action_iterrow'] = iterrows_impl(data_sample)"
      ],
      "execution_count": 31,
      "outputs": [
        {
          "output_type": "stream",
          "text": [
            "1 loop, best of 3: 9.25 s per loop\n"
          ],
          "name": "stdout"
        }
      ]
    },
    {
      "cell_type": "markdown",
      "metadata": {
        "id": "WbQdCzeyaFGu"
      },
      "source": [
        "### Method 3: Iterate over rows with `itertuples` Function"
      ]
    },
    {
      "cell_type": "code",
      "metadata": {
        "id": "zJTC1fd_aZsn"
      },
      "source": [
        "def itertuples_impl(df):\n",
        "  cutoff_date = datetime.date.today() + datetime.timedelta(days=2)\n",
        "  return pd.Series(\n",
        "    eisenhower_action(row.priority == 'HIGH', row.due_date <= cutoff_date)\n",
        "    for row in df.itertuples()\n",
        "  )"
      ],
      "execution_count": 32,
      "outputs": []
    },
    {
      "cell_type": "code",
      "metadata": {
        "id": "H6O01yB1cSc8",
        "outputId": "29032a03-3d5f-41df-9796-8a3236230c06",
        "colab": {
          "base_uri": "https://localhost:8080/",
          "height": 35
        }
      },
      "source": [
        "%timeit data_sample['action_itertuples'] = itertuples_impl(data_sample)"
      ],
      "execution_count": 33,
      "outputs": [
        {
          "output_type": "stream",
          "text": [
            "10 loops, best of 3: 188 ms per loop\n"
          ],
          "name": "stdout"
        }
      ]
    },
    {
      "cell_type": "markdown",
      "metadata": {
        "id": "VuIUVfqyNEVz"
      },
      "source": [
        "### Method 4: Pandas `apply` Function to Every Row"
      ]
    },
    {
      "cell_type": "code",
      "metadata": {
        "id": "tUYovpRjXZWC"
      },
      "source": [
        "def apply_impl(df):\n",
        "  cutoff_date = datetime.date.today() + datetime.timedelta(days=2)\n",
        "  return df.apply(\n",
        "    lambda row: eisenhower_action(row.priority == 'HIGH', row.due_date <= cutoff_date),\n",
        "    axis=1\n",
        "  )"
      ],
      "execution_count": 34,
      "outputs": []
    },
    {
      "cell_type": "code",
      "metadata": {
        "id": "HKhDaS_3ZZdN",
        "outputId": "0da28329-74eb-491c-85eb-2e38f00c8c05",
        "colab": {
          "base_uri": "https://localhost:8080/",
          "height": 35
        }
      },
      "source": [
        "%timeit data_sample['action_impl'] = apply_impl(data_sample)"
      ],
      "execution_count": 35,
      "outputs": [
        {
          "output_type": "stream",
          "text": [
            "1 loop, best of 3: 1.72 s per loop\n"
          ],
          "name": "stdout"
        }
      ]
    },
    {
      "cell_type": "markdown",
      "metadata": {
        "id": "XgfEOC0GhMML"
      },
      "source": [
        "### Method 5: List Comprehension"
      ]
    },
    {
      "cell_type": "code",
      "metadata": {
        "id": "EW0UvK5UsEJ2"
      },
      "source": [
        "def list_impl(df):\n",
        "  cutoff_date = datetime.date.today() + datetime.timedelta(days=2)\n",
        "  return pd.Series([\n",
        "    eisenhower_action(priority == 'HIGH', due_date <= cutoff_date)\n",
        "    for (priority, due_date) in zip(df['priority'], df['due_date'])\n",
        "  ])"
      ],
      "execution_count": 36,
      "outputs": []
    },
    {
      "cell_type": "code",
      "metadata": {
        "id": "BEAqo7hxxZ21",
        "outputId": "108b9c9c-ef22-4867-9900-9ae9e6267b56",
        "colab": {
          "base_uri": "https://localhost:8080/",
          "height": 35
        }
      },
      "source": [
        "%timeit data_sample['action_list'] = list_impl(data_sample)"
      ],
      "execution_count": 37,
      "outputs": [
        {
          "output_type": "stream",
          "text": [
            "10 loops, best of 3: 71.1 ms per loop\n"
          ],
          "name": "stdout"
        }
      ]
    },
    {
      "cell_type": "markdown",
      "metadata": {
        "id": "kPdjc4cery0V"
      },
      "source": [
        "### Method 6: *Vectorization*"
      ]
    },
    {
      "cell_type": "code",
      "metadata": {
        "id": "9blk7rtir4IM"
      },
      "source": [
        "def vec_impl(df):\n",
        "  cutoff_date = datetime.date.today() + datetime.timedelta(days=2)\n",
        "  return (2*(df['priority'] == 'HIGH') + (df['due_date'] <= cutoff_date))"
      ],
      "execution_count": 38,
      "outputs": []
    },
    {
      "cell_type": "code",
      "metadata": {
        "id": "hFhrzXfB5qxj",
        "outputId": "81a5c8cb-820e-4a2c-b4d7-e7ee24b13b95",
        "colab": {
          "base_uri": "https://localhost:8080/",
          "height": 35
        }
      },
      "source": [
        "%timeit data_sample['action_vec'] = vec_impl(data_sample)"
      ],
      "execution_count": 39,
      "outputs": [
        {
          "output_type": "stream",
          "text": [
            "10 loops, best of 3: 20.3 ms per loop\n"
          ],
          "name": "stdout"
        }
      ]
    },
    {
      "cell_type": "markdown",
      "metadata": {
        "id": "B5pnlol0XcBS"
      },
      "source": [
        "### Method 7: NumPy `vectorize` function\n",
        "\n",
        "Ref.: [From Python to NumPy](https://www.labri.fr/perso/nrougier/from-python-to-numpy/)"
      ]
    },
    {
      "cell_type": "code",
      "metadata": {
        "id": "_cYUZ2Z-iutb"
      },
      "source": [
        "def np_vec_impl(df):\n",
        "  cutoff_date = datetime.date.today() + datetime.timedelta(days=2)\n",
        "  return np.vectorize(eisenhower_action)(df['priority'] == 'HIGH', df['due_date'] <= cutoff_date)"
      ],
      "execution_count": 40,
      "outputs": []
    },
    {
      "cell_type": "code",
      "metadata": {
        "id": "l3mno_5Rjv1C",
        "outputId": "2b5e2812-08e3-43b4-9066-f8c15c4536b9",
        "colab": {
          "base_uri": "https://localhost:8080/",
          "height": 35
        }
      },
      "source": [
        "%timeit data_sample['action_np_vec'] = np_vec_impl(data_sample)"
      ],
      "execution_count": 41,
      "outputs": [
        {
          "output_type": "stream",
          "text": [
            "10 loops, best of 3: 36.2 ms per loop\n"
          ],
          "name": "stdout"
        }
      ]
    },
    {
      "cell_type": "markdown",
      "metadata": {
        "id": "k0a_Hr0n0Gqk"
      },
      "source": [
        "### Method 8: Numba Decorators\n",
        "\n",
        "[Numba](https://numba.pydata.org) is commonly used to speed up applying mathmatical functions."
      ]
    },
    {
      "cell_type": "code",
      "metadata": {
        "id": "04aAxGcG1Rfb"
      },
      "source": [
        "import numba\n",
        "\n",
        "@numba.vectorize\n",
        "def numba_eisenhower_action(is_important: bool, is_urgent: bool) -> int:\n",
        "  return 2 * is_important + is_urgent\n",
        "\n",
        "def numba_impl(df):\n",
        "  cutoff_date = datetime.date.today() + datetime.timedelta(days=2)\n",
        "  return numba_eisenhower_action(\n",
        "    (df['priority'] == 'HIGH').to_numpy(),\n",
        "    (df['due_date'] <= cutoff_date).to_numpy()\n",
        "  )"
      ],
      "execution_count": 42,
      "outputs": []
    },
    {
      "cell_type": "code",
      "metadata": {
        "id": "rJgIE2YX319K",
        "outputId": "5f1387bf-1c53-4f0e-fa6e-6e5d26836435",
        "colab": {
          "base_uri": "https://localhost:8080/",
          "height": 52
        }
      },
      "source": [
        "%timeit data_sample['action_numba'] = numba_impl(data_sample)"
      ],
      "execution_count": 43,
      "outputs": [
        {
          "output_type": "stream",
          "text": [
            "The slowest run took 9.48 times longer than the fastest. This could mean that an intermediate result is being cached.\n",
            "100 loops, best of 3: 18.7 ms per loop\n"
          ],
          "name": "stdout"
        }
      ]
    },
    {
      "cell_type": "markdown",
      "metadata": {
        "id": "trRh9Sbc6Mfb"
      },
      "source": [
        "### Method 9: Multiprocessing with `pandarallel` "
      ]
    },
    {
      "cell_type": "code",
      "metadata": {
        "id": "cVS686u86T4H",
        "outputId": "cb94f2b1-c0bd-4dc1-f295-3e2e7e6d9e18",
        "colab": {
          "base_uri": "https://localhost:8080/",
          "height": 52
        }
      },
      "source": [
        "from pandarallel import pandarallel\n",
        "\n",
        "pandarallel.initialize()\n",
        "\n",
        "def pandarallel_impl(df):\n",
        "  cutoff_date = datetime.date.today() + datetime.timedelta(days=2)\n",
        "  return df.parallel_apply(\n",
        "    lambda row: eisenhower_action(row.priority == 'HIGH', row.due_date <= cutoff_date),\n",
        "    axis=1\n",
        "  )"
      ],
      "execution_count": 44,
      "outputs": [
        {
          "output_type": "stream",
          "text": [
            "INFO: Pandarallel will run on 2 workers.\n",
            "INFO: Pandarallel will use Memory file system to transfer data between the main process and workers.\n"
          ],
          "name": "stdout"
        }
      ]
    },
    {
      "cell_type": "code",
      "metadata": {
        "id": "qD9isuTE8xvT",
        "outputId": "11a581fc-e7b8-4f08-bd17-fbf329df9b98",
        "colab": {
          "base_uri": "https://localhost:8080/",
          "height": 35
        }
      },
      "source": [
        "%timeit data_sample['action_pandarallel'] = pandarallel_impl(data_sample)"
      ],
      "execution_count": 45,
      "outputs": [
        {
          "output_type": "stream",
          "text": [
            "1 loop, best of 3: 2.04 s per loop\n"
          ],
          "name": "stdout"
        }
      ]
    },
    {
      "cell_type": "markdown",
      "metadata": {
        "id": "Z5BSckOfA5Fe"
      },
      "source": [
        "### Method 10: Parallelize with Dask\n",
        "\n",
        "[Dask](https://dask.org) is a parallel computing library that supports scaling up NumPy, Pandas, Scikit-learn and many other Python libraries.\n"
      ]
    },
    {
      "cell_type": "code",
      "metadata": {
        "id": "abwkBjCDB0AH"
      },
      "source": [
        "import dask.dataframe as dd\n",
        "\n",
        "def dask_impl(df):\n",
        "  cutoff_date = datetime.date.today() + datetime.timedelta(days=2)\n",
        "  return dd.from_pandas(df, npartitions=CPU_COUNT).apply(\n",
        "    lambda row: eisenhower_action(row.priority == 'HIGH', row.due_date <= cutoff_date),\n",
        "    axis=1,\n",
        "    meta=(int)\n",
        "  ).compute()"
      ],
      "execution_count": 46,
      "outputs": []
    },
    {
      "cell_type": "code",
      "metadata": {
        "id": "1R656fvAD6F3",
        "outputId": "c8f8b961-d285-4051-cea2-6b127f64b5ec",
        "colab": {
          "base_uri": "https://localhost:8080/",
          "height": 35
        }
      },
      "source": [
        "%timeit data_sample['action_dask'] = dask_impl(data_sample)"
      ],
      "execution_count": 47,
      "outputs": [
        {
          "output_type": "stream",
          "text": [
            "1 loop, best of 3: 2.05 s per loop\n"
          ],
          "name": "stdout"
        }
      ]
    },
    {
      "cell_type": "markdown",
      "metadata": {
        "id": "MToH2DqoEoWW"
      },
      "source": [
        "### Method 11: Opportunistic Parallelization with Swifter\n",
        "\n",
        "[Swifter](https://github.com/jmcarpenter2/swifter) automatically decides which is faster: to use dask parallel processing or a simple pandas apply."
      ]
    },
    {
      "cell_type": "code",
      "metadata": {
        "id": "8dF8rOshHMSa"
      },
      "source": [
        "import swifter\n",
        "\n",
        "def swifter_impl(df):\n",
        "  cutoff_date = datetime.date.today() + datetime.timedelta(days=2)\n",
        "  return df.swifter.apply(\n",
        "    lambda row: eisenhower_action(row.priority == 'HIGH', row.due_date <= cutoff_date),\n",
        "    axis=1\n",
        "  )"
      ],
      "execution_count": 48,
      "outputs": []
    },
    {
      "cell_type": "code",
      "metadata": {
        "id": "SbzxhRChHp6B",
        "outputId": "62786fad-a356-49cb-bd01-90421d5b7a3d",
        "colab": {
          "base_uri": "https://localhost:8080/",
          "height": 35
        }
      },
      "source": [
        "%timeit data_sample['action_swifter'] = swifter_impl(data_sample)"
      ],
      "execution_count": 49,
      "outputs": [
        {
          "output_type": "stream",
          "text": [
            "10 loops, best of 3: 26.1 ms per loop\n"
          ],
          "name": "stdout"
        }
      ]
    },
    {
      "cell_type": "markdown",
      "metadata": {
        "id": "_TZMFYH1MNCL"
      },
      "source": [
        "### Test Correctness"
      ]
    },
    {
      "cell_type": "code",
      "metadata": {
        "id": "5XMIXhq-MRqZ",
        "outputId": "b0442a1f-c0c4-4f20-f89e-a20e36617f4a",
        "colab": {
          "base_uri": "https://localhost:8080/",
          "height": 68
        }
      },
      "source": [
        "data_sample[data_sample['action_loop'] != data_sample['action_iterrow']]"
      ],
      "execution_count": 50,
      "outputs": [
        {
          "output_type": "execute_result",
          "data": {
            "text/html": [
              "<div>\n",
              "<style scoped>\n",
              "    .dataframe tbody tr th:only-of-type {\n",
              "        vertical-align: middle;\n",
              "    }\n",
              "\n",
              "    .dataframe tbody tr th {\n",
              "        vertical-align: top;\n",
              "    }\n",
              "\n",
              "    .dataframe thead th {\n",
              "        text-align: right;\n",
              "    }\n",
              "</style>\n",
              "<table border=\"1\" class=\"dataframe\">\n",
              "  <thead>\n",
              "    <tr style=\"text-align: right;\">\n",
              "      <th></th>\n",
              "      <th>task_name</th>\n",
              "      <th>due_date</th>\n",
              "      <th>priority</th>\n",
              "      <th>action_loop</th>\n",
              "      <th>action_iterrow</th>\n",
              "      <th>action_itertuples</th>\n",
              "      <th>action_impl</th>\n",
              "      <th>action_list</th>\n",
              "      <th>action_vec</th>\n",
              "      <th>action_np_vec</th>\n",
              "      <th>action_numba</th>\n",
              "      <th>action_pandarallel</th>\n",
              "      <th>action_dask</th>\n",
              "      <th>action_swifter</th>\n",
              "    </tr>\n",
              "  </thead>\n",
              "  <tbody>\n",
              "  </tbody>\n",
              "</table>\n",
              "</div>"
            ],
            "text/plain": [
              "Empty DataFrame\n",
              "Columns: [task_name, due_date, priority, action_loop, action_iterrow, action_itertuples, action_impl, action_list, action_vec, action_np_vec, action_numba, action_pandarallel, action_dask, action_swifter]\n",
              "Index: []"
            ]
          },
          "metadata": {
            "tags": []
          },
          "execution_count": 50
        }
      ]
    },
    {
      "cell_type": "code",
      "metadata": {
        "id": "meji8zshSJQ9",
        "outputId": "f7641c1a-4391-411c-e35e-d16c616e7241",
        "colab": {
          "base_uri": "https://localhost:8080/",
          "height": 68
        }
      },
      "source": [
        "data_sample[data_sample['action_loop'] != data_sample['action_itertuples']]"
      ],
      "execution_count": 51,
      "outputs": [
        {
          "output_type": "execute_result",
          "data": {
            "text/html": [
              "<div>\n",
              "<style scoped>\n",
              "    .dataframe tbody tr th:only-of-type {\n",
              "        vertical-align: middle;\n",
              "    }\n",
              "\n",
              "    .dataframe tbody tr th {\n",
              "        vertical-align: top;\n",
              "    }\n",
              "\n",
              "    .dataframe thead th {\n",
              "        text-align: right;\n",
              "    }\n",
              "</style>\n",
              "<table border=\"1\" class=\"dataframe\">\n",
              "  <thead>\n",
              "    <tr style=\"text-align: right;\">\n",
              "      <th></th>\n",
              "      <th>task_name</th>\n",
              "      <th>due_date</th>\n",
              "      <th>priority</th>\n",
              "      <th>action_loop</th>\n",
              "      <th>action_iterrow</th>\n",
              "      <th>action_itertuples</th>\n",
              "      <th>action_impl</th>\n",
              "      <th>action_list</th>\n",
              "      <th>action_vec</th>\n",
              "      <th>action_np_vec</th>\n",
              "      <th>action_numba</th>\n",
              "      <th>action_pandarallel</th>\n",
              "      <th>action_dask</th>\n",
              "      <th>action_swifter</th>\n",
              "    </tr>\n",
              "  </thead>\n",
              "  <tbody>\n",
              "  </tbody>\n",
              "</table>\n",
              "</div>"
            ],
            "text/plain": [
              "Empty DataFrame\n",
              "Columns: [task_name, due_date, priority, action_loop, action_iterrow, action_itertuples, action_impl, action_list, action_vec, action_np_vec, action_numba, action_pandarallel, action_dask, action_swifter]\n",
              "Index: []"
            ]
          },
          "metadata": {
            "tags": []
          },
          "execution_count": 51
        }
      ]
    },
    {
      "cell_type": "code",
      "metadata": {
        "id": "NNcGmoNBSNrk",
        "outputId": "896340dd-a1b5-4a4f-d393-c60687bd8f04",
        "colab": {
          "base_uri": "https://localhost:8080/",
          "height": 68
        }
      },
      "source": [
        "data_sample[data_sample['action_loop'] != data_sample['action_impl']]"
      ],
      "execution_count": 52,
      "outputs": [
        {
          "output_type": "execute_result",
          "data": {
            "text/html": [
              "<div>\n",
              "<style scoped>\n",
              "    .dataframe tbody tr th:only-of-type {\n",
              "        vertical-align: middle;\n",
              "    }\n",
              "\n",
              "    .dataframe tbody tr th {\n",
              "        vertical-align: top;\n",
              "    }\n",
              "\n",
              "    .dataframe thead th {\n",
              "        text-align: right;\n",
              "    }\n",
              "</style>\n",
              "<table border=\"1\" class=\"dataframe\">\n",
              "  <thead>\n",
              "    <tr style=\"text-align: right;\">\n",
              "      <th></th>\n",
              "      <th>task_name</th>\n",
              "      <th>due_date</th>\n",
              "      <th>priority</th>\n",
              "      <th>action_loop</th>\n",
              "      <th>action_iterrow</th>\n",
              "      <th>action_itertuples</th>\n",
              "      <th>action_impl</th>\n",
              "      <th>action_list</th>\n",
              "      <th>action_vec</th>\n",
              "      <th>action_np_vec</th>\n",
              "      <th>action_numba</th>\n",
              "      <th>action_pandarallel</th>\n",
              "      <th>action_dask</th>\n",
              "      <th>action_swifter</th>\n",
              "    </tr>\n",
              "  </thead>\n",
              "  <tbody>\n",
              "  </tbody>\n",
              "</table>\n",
              "</div>"
            ],
            "text/plain": [
              "Empty DataFrame\n",
              "Columns: [task_name, due_date, priority, action_loop, action_iterrow, action_itertuples, action_impl, action_list, action_vec, action_np_vec, action_numba, action_pandarallel, action_dask, action_swifter]\n",
              "Index: []"
            ]
          },
          "metadata": {
            "tags": []
          },
          "execution_count": 52
        }
      ]
    },
    {
      "cell_type": "code",
      "metadata": {
        "id": "K_R1niJ1SQau",
        "outputId": "8c1ee1f5-d308-44ed-a39b-4f026addcdf0",
        "colab": {
          "base_uri": "https://localhost:8080/",
          "height": 68
        }
      },
      "source": [
        "data_sample[data_sample['action_loop'] != data_sample['action_list']]"
      ],
      "execution_count": 53,
      "outputs": [
        {
          "output_type": "execute_result",
          "data": {
            "text/html": [
              "<div>\n",
              "<style scoped>\n",
              "    .dataframe tbody tr th:only-of-type {\n",
              "        vertical-align: middle;\n",
              "    }\n",
              "\n",
              "    .dataframe tbody tr th {\n",
              "        vertical-align: top;\n",
              "    }\n",
              "\n",
              "    .dataframe thead th {\n",
              "        text-align: right;\n",
              "    }\n",
              "</style>\n",
              "<table border=\"1\" class=\"dataframe\">\n",
              "  <thead>\n",
              "    <tr style=\"text-align: right;\">\n",
              "      <th></th>\n",
              "      <th>task_name</th>\n",
              "      <th>due_date</th>\n",
              "      <th>priority</th>\n",
              "      <th>action_loop</th>\n",
              "      <th>action_iterrow</th>\n",
              "      <th>action_itertuples</th>\n",
              "      <th>action_impl</th>\n",
              "      <th>action_list</th>\n",
              "      <th>action_vec</th>\n",
              "      <th>action_np_vec</th>\n",
              "      <th>action_numba</th>\n",
              "      <th>action_pandarallel</th>\n",
              "      <th>action_dask</th>\n",
              "      <th>action_swifter</th>\n",
              "    </tr>\n",
              "  </thead>\n",
              "  <tbody>\n",
              "  </tbody>\n",
              "</table>\n",
              "</div>"
            ],
            "text/plain": [
              "Empty DataFrame\n",
              "Columns: [task_name, due_date, priority, action_loop, action_iterrow, action_itertuples, action_impl, action_list, action_vec, action_np_vec, action_numba, action_pandarallel, action_dask, action_swifter]\n",
              "Index: []"
            ]
          },
          "metadata": {
            "tags": []
          },
          "execution_count": 53
        }
      ]
    },
    {
      "cell_type": "code",
      "metadata": {
        "id": "VHC4BAjpSRGk",
        "outputId": "d50c62a5-f5c2-400e-efc1-2b094c3be4af",
        "colab": {
          "base_uri": "https://localhost:8080/",
          "height": 68
        }
      },
      "source": [
        "data_sample[data_sample['action_loop'] != data_sample['action_vec']]"
      ],
      "execution_count": 54,
      "outputs": [
        {
          "output_type": "execute_result",
          "data": {
            "text/html": [
              "<div>\n",
              "<style scoped>\n",
              "    .dataframe tbody tr th:only-of-type {\n",
              "        vertical-align: middle;\n",
              "    }\n",
              "\n",
              "    .dataframe tbody tr th {\n",
              "        vertical-align: top;\n",
              "    }\n",
              "\n",
              "    .dataframe thead th {\n",
              "        text-align: right;\n",
              "    }\n",
              "</style>\n",
              "<table border=\"1\" class=\"dataframe\">\n",
              "  <thead>\n",
              "    <tr style=\"text-align: right;\">\n",
              "      <th></th>\n",
              "      <th>task_name</th>\n",
              "      <th>due_date</th>\n",
              "      <th>priority</th>\n",
              "      <th>action_loop</th>\n",
              "      <th>action_iterrow</th>\n",
              "      <th>action_itertuples</th>\n",
              "      <th>action_impl</th>\n",
              "      <th>action_list</th>\n",
              "      <th>action_vec</th>\n",
              "      <th>action_np_vec</th>\n",
              "      <th>action_numba</th>\n",
              "      <th>action_pandarallel</th>\n",
              "      <th>action_dask</th>\n",
              "      <th>action_swifter</th>\n",
              "    </tr>\n",
              "  </thead>\n",
              "  <tbody>\n",
              "  </tbody>\n",
              "</table>\n",
              "</div>"
            ],
            "text/plain": [
              "Empty DataFrame\n",
              "Columns: [task_name, due_date, priority, action_loop, action_iterrow, action_itertuples, action_impl, action_list, action_vec, action_np_vec, action_numba, action_pandarallel, action_dask, action_swifter]\n",
              "Index: []"
            ]
          },
          "metadata": {
            "tags": []
          },
          "execution_count": 54
        }
      ]
    },
    {
      "cell_type": "code",
      "metadata": {
        "id": "EKszPx-Zj6av",
        "outputId": "700f4ba3-60fd-488b-ffc3-9884267e892a",
        "colab": {
          "base_uri": "https://localhost:8080/",
          "height": 68
        }
      },
      "source": [
        "data_sample[data_sample['action_loop'] != data_sample['action_np_vec']]"
      ],
      "execution_count": 55,
      "outputs": [
        {
          "output_type": "execute_result",
          "data": {
            "text/html": [
              "<div>\n",
              "<style scoped>\n",
              "    .dataframe tbody tr th:only-of-type {\n",
              "        vertical-align: middle;\n",
              "    }\n",
              "\n",
              "    .dataframe tbody tr th {\n",
              "        vertical-align: top;\n",
              "    }\n",
              "\n",
              "    .dataframe thead th {\n",
              "        text-align: right;\n",
              "    }\n",
              "</style>\n",
              "<table border=\"1\" class=\"dataframe\">\n",
              "  <thead>\n",
              "    <tr style=\"text-align: right;\">\n",
              "      <th></th>\n",
              "      <th>task_name</th>\n",
              "      <th>due_date</th>\n",
              "      <th>priority</th>\n",
              "      <th>action_loop</th>\n",
              "      <th>action_iterrow</th>\n",
              "      <th>action_itertuples</th>\n",
              "      <th>action_impl</th>\n",
              "      <th>action_list</th>\n",
              "      <th>action_vec</th>\n",
              "      <th>action_np_vec</th>\n",
              "      <th>action_numba</th>\n",
              "      <th>action_pandarallel</th>\n",
              "      <th>action_dask</th>\n",
              "      <th>action_swifter</th>\n",
              "    </tr>\n",
              "  </thead>\n",
              "  <tbody>\n",
              "  </tbody>\n",
              "</table>\n",
              "</div>"
            ],
            "text/plain": [
              "Empty DataFrame\n",
              "Columns: [task_name, due_date, priority, action_loop, action_iterrow, action_itertuples, action_impl, action_list, action_vec, action_np_vec, action_numba, action_pandarallel, action_dask, action_swifter]\n",
              "Index: []"
            ]
          },
          "metadata": {
            "tags": []
          },
          "execution_count": 55
        }
      ]
    },
    {
      "cell_type": "code",
      "metadata": {
        "id": "YT5RUrQo6W46",
        "outputId": "79cb0b0a-652a-413d-fbeb-88ef82172028",
        "colab": {
          "base_uri": "https://localhost:8080/",
          "height": 68
        }
      },
      "source": [
        "data_sample[data_sample['action_loop'] != data_sample['action_numba']]"
      ],
      "execution_count": 56,
      "outputs": [
        {
          "output_type": "execute_result",
          "data": {
            "text/html": [
              "<div>\n",
              "<style scoped>\n",
              "    .dataframe tbody tr th:only-of-type {\n",
              "        vertical-align: middle;\n",
              "    }\n",
              "\n",
              "    .dataframe tbody tr th {\n",
              "        vertical-align: top;\n",
              "    }\n",
              "\n",
              "    .dataframe thead th {\n",
              "        text-align: right;\n",
              "    }\n",
              "</style>\n",
              "<table border=\"1\" class=\"dataframe\">\n",
              "  <thead>\n",
              "    <tr style=\"text-align: right;\">\n",
              "      <th></th>\n",
              "      <th>task_name</th>\n",
              "      <th>due_date</th>\n",
              "      <th>priority</th>\n",
              "      <th>action_loop</th>\n",
              "      <th>action_iterrow</th>\n",
              "      <th>action_itertuples</th>\n",
              "      <th>action_impl</th>\n",
              "      <th>action_list</th>\n",
              "      <th>action_vec</th>\n",
              "      <th>action_np_vec</th>\n",
              "      <th>action_numba</th>\n",
              "      <th>action_pandarallel</th>\n",
              "      <th>action_dask</th>\n",
              "      <th>action_swifter</th>\n",
              "    </tr>\n",
              "  </thead>\n",
              "  <tbody>\n",
              "  </tbody>\n",
              "</table>\n",
              "</div>"
            ],
            "text/plain": [
              "Empty DataFrame\n",
              "Columns: [task_name, due_date, priority, action_loop, action_iterrow, action_itertuples, action_impl, action_list, action_vec, action_np_vec, action_numba, action_pandarallel, action_dask, action_swifter]\n",
              "Index: []"
            ]
          },
          "metadata": {
            "tags": []
          },
          "execution_count": 56
        }
      ]
    },
    {
      "cell_type": "code",
      "metadata": {
        "id": "D6NhkfYw9ZI3",
        "outputId": "9d9bf473-c7ec-413d-c54d-d4cd1f68a71b",
        "colab": {
          "base_uri": "https://localhost:8080/",
          "height": 48
        }
      },
      "source": [
        "data_sample[data_sample['action_loop'] != data_sample['action_pandarallel']]"
      ],
      "execution_count": 57,
      "outputs": [
        {
          "output_type": "execute_result",
          "data": {
            "text/html": [
              "<div>\n",
              "<style scoped>\n",
              "    .dataframe tbody tr th:only-of-type {\n",
              "        vertical-align: middle;\n",
              "    }\n",
              "\n",
              "    .dataframe tbody tr th {\n",
              "        vertical-align: top;\n",
              "    }\n",
              "\n",
              "    .dataframe thead th {\n",
              "        text-align: right;\n",
              "    }\n",
              "</style>\n",
              "<table border=\"1\" class=\"dataframe\">\n",
              "  <thead>\n",
              "    <tr style=\"text-align: right;\">\n",
              "      <th></th>\n",
              "      <th>task_name</th>\n",
              "      <th>due_date</th>\n",
              "      <th>priority</th>\n",
              "      <th>action_loop</th>\n",
              "      <th>action_iterrow</th>\n",
              "      <th>action_itertuples</th>\n",
              "      <th>action_impl</th>\n",
              "      <th>action_list</th>\n",
              "      <th>action_vec</th>\n",
              "      <th>action_np_vec</th>\n",
              "      <th>action_numba</th>\n",
              "      <th>action_pandarallel</th>\n",
              "      <th>action_dask</th>\n",
              "      <th>action_swifter</th>\n",
              "    </tr>\n",
              "  </thead>\n",
              "  <tbody>\n",
              "  </tbody>\n",
              "</table>\n",
              "</div>"
            ],
            "text/plain": [
              "Empty DataFrame\n",
              "Columns: [task_name, due_date, priority, action_loop, action_iterrow, action_itertuples, action_impl, action_list, action_vec, action_np_vec, action_numba, action_pandarallel, action_dask, action_swifter]\n",
              "Index: []"
            ]
          },
          "metadata": {
            "tags": []
          },
          "execution_count": 57
        }
      ]
    },
    {
      "cell_type": "code",
      "metadata": {
        "id": "6pqJ7eWgEQ3M",
        "outputId": "2da1ed39-cf75-4511-c5d1-fc1eb5b677be",
        "colab": {
          "base_uri": "https://localhost:8080/",
          "height": 48
        }
      },
      "source": [
        "data_sample[data_sample['action_loop'] != data_sample['action_dask']]"
      ],
      "execution_count": 58,
      "outputs": [
        {
          "output_type": "execute_result",
          "data": {
            "text/html": [
              "<div>\n",
              "<style scoped>\n",
              "    .dataframe tbody tr th:only-of-type {\n",
              "        vertical-align: middle;\n",
              "    }\n",
              "\n",
              "    .dataframe tbody tr th {\n",
              "        vertical-align: top;\n",
              "    }\n",
              "\n",
              "    .dataframe thead th {\n",
              "        text-align: right;\n",
              "    }\n",
              "</style>\n",
              "<table border=\"1\" class=\"dataframe\">\n",
              "  <thead>\n",
              "    <tr style=\"text-align: right;\">\n",
              "      <th></th>\n",
              "      <th>task_name</th>\n",
              "      <th>due_date</th>\n",
              "      <th>priority</th>\n",
              "      <th>action_loop</th>\n",
              "      <th>action_iterrow</th>\n",
              "      <th>action_itertuples</th>\n",
              "      <th>action_impl</th>\n",
              "      <th>action_list</th>\n",
              "      <th>action_vec</th>\n",
              "      <th>action_np_vec</th>\n",
              "      <th>action_numba</th>\n",
              "      <th>action_pandarallel</th>\n",
              "      <th>action_dask</th>\n",
              "      <th>action_swifter</th>\n",
              "    </tr>\n",
              "  </thead>\n",
              "  <tbody>\n",
              "  </tbody>\n",
              "</table>\n",
              "</div>"
            ],
            "text/plain": [
              "Empty DataFrame\n",
              "Columns: [task_name, due_date, priority, action_loop, action_iterrow, action_itertuples, action_impl, action_list, action_vec, action_np_vec, action_numba, action_pandarallel, action_dask, action_swifter]\n",
              "Index: []"
            ]
          },
          "metadata": {
            "tags": []
          },
          "execution_count": 58
        }
      ]
    },
    {
      "cell_type": "code",
      "metadata": {
        "id": "4LIT_FZiIgu8",
        "outputId": "29a5fd56-44f1-4cb4-f62f-b882133e2720",
        "colab": {
          "base_uri": "https://localhost:8080/",
          "height": 48
        }
      },
      "source": [
        "data_sample[data_sample['action_loop'] != data_sample['action_swifter']]"
      ],
      "execution_count": 59,
      "outputs": [
        {
          "output_type": "execute_result",
          "data": {
            "text/html": [
              "<div>\n",
              "<style scoped>\n",
              "    .dataframe tbody tr th:only-of-type {\n",
              "        vertical-align: middle;\n",
              "    }\n",
              "\n",
              "    .dataframe tbody tr th {\n",
              "        vertical-align: top;\n",
              "    }\n",
              "\n",
              "    .dataframe thead th {\n",
              "        text-align: right;\n",
              "    }\n",
              "</style>\n",
              "<table border=\"1\" class=\"dataframe\">\n",
              "  <thead>\n",
              "    <tr style=\"text-align: right;\">\n",
              "      <th></th>\n",
              "      <th>task_name</th>\n",
              "      <th>due_date</th>\n",
              "      <th>priority</th>\n",
              "      <th>action_loop</th>\n",
              "      <th>action_iterrow</th>\n",
              "      <th>action_itertuples</th>\n",
              "      <th>action_impl</th>\n",
              "      <th>action_list</th>\n",
              "      <th>action_vec</th>\n",
              "      <th>action_np_vec</th>\n",
              "      <th>action_numba</th>\n",
              "      <th>action_pandarallel</th>\n",
              "      <th>action_dask</th>\n",
              "      <th>action_swifter</th>\n",
              "    </tr>\n",
              "  </thead>\n",
              "  <tbody>\n",
              "  </tbody>\n",
              "</table>\n",
              "</div>"
            ],
            "text/plain": [
              "Empty DataFrame\n",
              "Columns: [task_name, due_date, priority, action_loop, action_iterrow, action_itertuples, action_impl, action_list, action_vec, action_np_vec, action_numba, action_pandarallel, action_dask, action_swifter]\n",
              "Index: []"
            ]
          },
          "metadata": {
            "tags": []
          },
          "execution_count": 59
        }
      ]
    },
    {
      "cell_type": "markdown",
      "metadata": {
        "id": "Lfcfp6pu-2J6"
      },
      "source": [
        "## Plot Performance Over DataFrame Size\n"
      ]
    },
    {
      "cell_type": "code",
      "metadata": {
        "id": "rgPwgV5w_CFx",
        "outputId": "b22b3a61-d498-4f2e-96d7-f42fdd62fd07",
        "colab": {
          "base_uri": "https://localhost:8080/",
          "height": 299
        }
      },
      "source": [
        "kernels = [\n",
        "  loop_impl,\n",
        "  iterrows_impl,\n",
        "  itertuples_impl,\n",
        "  apply_impl,\n",
        "  list_impl,\n",
        "  vec_impl,\n",
        "  np_vec_impl,\n",
        "  numba_impl,\n",
        "  pandarallel_impl,\n",
        "  dask_impl,\n",
        "  swifter_impl\n",
        "]\n",
        "\n",
        "labels = [str(k.__name__)[:-5] for k in kernels]\n",
        "\n",
        "perfplot.show(\n",
        "  setup=lambda n: test_data_sample(n),\n",
        "  kernels=kernels,\n",
        "  labels=labels,\n",
        "  n_range=[2**k for k in range(20)],\n",
        "  xlabel='N',\n",
        "  logx=True,\n",
        "  logy=True,\n",
        "  #equality_check=None\n",
        ")"
      ],
      "execution_count": 60,
      "outputs": [
        {
          "output_type": "display_data",
          "data": {
            "image/png": "[encoded data removed]",
            "text/plain": [
              "<Figure size 432x288 with 1 Axes>"
            ]
          },
          "metadata": {
            "tags": [],
            "needs_background": "dark"
          }
        }
      ]
    },
    {
      "cell_type": "markdown",
      "metadata": {
        "id": "tq3Ki7Q0--LT"
      },
      "source": [
        "## Summary"
      ]
    },
    {
      "cell_type": "markdown",
      "metadata": {
        "id": "3yYtmsUmWiEu"
      },
      "source": [
        "Performance Comparision:\n",
        "\n",
        "| Method             | CPU Time (s) |\n",
        "| ------------------ | -----------: | \n",
        "| Python Loop        |      37.9000 |\n",
        "| Pandas iterrow()   |       9.2500 |\n",
        "| Pandas apply()     |       1.7200 |\n",
        "| Pandas itertuples()|       0.1880 |\n",
        "| List Comprehension |       0.0711 |\n",
        "| NumPy vectorize()  |       0.0362 |\n",
        "| Vectorization      |       0.0203 |\n",
        "| ------------------ | ------------ | \n",
        "| Numba              |       0.0187 |\n",
        "| Pandarallel        |       2.0400 |\n",
        "| Dask               |       2.0500 |\n",
        "| Swifter            |       0.0261 |"
      ]
    }
  ]
}