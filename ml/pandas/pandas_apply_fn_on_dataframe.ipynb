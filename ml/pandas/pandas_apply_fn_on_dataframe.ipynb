{
  "nbformat": 4,
  "nbformat_minor": 0,
  "metadata": {
    "colab": {
      "name": "pandas-apply-fn-on-dataframe.ipynb",
      "provenance": [],
      "collapsed_sections": [],
      "authorship_tag": "ABX9TyPkekvrihZW1q/H9rLcD89a",
      "include_colab_link": true
    },
    "kernelspec": {
      "name": "python3",
      "display_name": "Python 3"
    }
  },
  "cells": [
    {
      "cell_type": "markdown",
      "metadata": {
        "id": "view-in-github",
        "colab_type": "text"
      },
      "source": [
        "<a href=\"https://colab.research.google.com/github/scgupta/yearn2learn/blob/master/ml/pandas/pandas_apply_fn_on_dataframe.ipynb\" target=\"_parent\"><img src=\"https://colab.research.google.com/assets/colab-badge.svg\" alt=\"Open In Colab\"/></a>"
      ]
    },
    {
      "cell_type": "markdown",
      "metadata": {
        "id": "SSyUJQr70wl2"
      },
      "source": [
        "# How to efficently apply a function to Pandas Dataframe rows\n",
        "\n",
        "Blog post: [Best Way to Apply a Function to Each Row in Pandas DataFrame](https://medium.com/@scgupta/apply-function-to-pandas-dataframe-rows-76df74165ee4)"
      ]
    },
    {
      "cell_type": "markdown",
      "metadata": {
        "id": "Jiwj6K9a7Zuq"
      },
      "source": [
        "## Setup\n",
        "\n",
        "Install needed libs and import modules."
      ]
    },
    {
      "cell_type": "code",
      "metadata": {
        "id": "8VM04L0t7dor"
      },
      "source": [
        "!pip install \\\n",
        "    datetime pandas numpy \\\n",
        "    faker line_profiler perfplot \\\n",
        "    numba pandarallel dask[dataframe] swifter \\\n",
        "    gpustat \\\n",
        "    &> /dev/null"
      ],
      "execution_count": 1,
      "outputs": []
    },
    {
      "cell_type": "code",
      "metadata": {
        "id": "M6jDUCigwMuQ"
      },
      "source": [
        "%load_ext line_profiler"
      ],
      "execution_count": 2,
      "outputs": []
    },
    {
      "cell_type": "code",
      "metadata": {
        "id": "Zx98I0FB0gtv"
      },
      "source": [
        "import numpy as np\n",
        "import pandas as pd\n",
        "import datetime\n",
        "import perfplot\n",
        "\n",
        "from faker import Faker"
      ],
      "execution_count": 3,
      "outputs": []
    },
    {
      "cell_type": "code",
      "metadata": {
        "id": "KlR_iCmAQAQx",
        "outputId": "a711d08c-546c-4108-a1b8-db358fe2b4bd",
        "colab": {
          "base_uri": "https://localhost:8080/",
          "height": 445
        }
      },
      "source": [
        "!lscpu"
      ],
      "execution_count": 4,
      "outputs": [
        {
          "output_type": "stream",
          "text": [
            "Architecture:        x86_64\n",
            "CPU op-mode(s):      32-bit, 64-bit\n",
            "Byte Order:          Little Endian\n",
            "CPU(s):              2\n",
            "On-line CPU(s) list: 0,1\n",
            "Thread(s) per core:  2\n",
            "Core(s) per socket:  1\n",
            "Socket(s):           1\n",
            "NUMA node(s):        1\n",
            "Vendor ID:           GenuineIntel\n",
            "CPU family:          6\n",
            "Model:               63\n",
            "Model name:          Intel(R) Xeon(R) CPU @ 2.30GHz\n",
            "Stepping:            0\n",
            "CPU MHz:             2300.000\n",
            "BogoMIPS:            4600.00\n",
            "Hypervisor vendor:   KVM\n",
            "Virtualization type: full\n",
            "L1d cache:           32K\n",
            "L1i cache:           32K\n",
            "L2 cache:            256K\n",
            "L3 cache:            46080K\n",
            "NUMA node0 CPU(s):   0,1\n",
            "Flags:               fpu vme de pse tsc msr pae mce cx8 apic sep mtrr pge mca cmov pat pse36 clflush mmx fxsr sse sse2 ss ht syscall nx pdpe1gb rdtscp lm constant_tsc rep_good nopl xtopology nonstop_tsc cpuid tsc_known_freq pni pclmulqdq ssse3 fma cx16 pcid sse4_1 sse4_2 x2apic movbe popcnt aes xsave avx f16c rdrand hypervisor lahf_lm abm invpcid_single ssbd ibrs ibpb stibp fsgsbase tsc_adjust bmi1 avx2 smep bmi2 erms invpcid xsaveopt arat md_clear arch_capabilities\n"
          ],
          "name": "stdout"
        }
      ]
    },
    {
      "cell_type": "code",
      "metadata": {
        "id": "KGx3VA0FP2yG",
        "outputId": "d7ef1335-1c2a-40d3-dcda-84d12fcb44c0",
        "colab": {
          "base_uri": "https://localhost:8080/",
          "height": 34
        }
      },
      "source": [
        "import multiprocessing\n",
        "\n",
        "CPU_COUNT = multiprocessing.cpu_count()\n",
        "\n",
        "CPU_COUNT"
      ],
      "execution_count": 5,
      "outputs": [
        {
          "output_type": "execute_result",
          "data": {
            "text/plain": [
              "2"
            ]
          },
          "metadata": {
            "tags": []
          },
          "execution_count": 5
        }
      ]
    },
    {
      "cell_type": "code",
      "metadata": {
        "id": "GTH57hIAcgzm",
        "outputId": "97da252a-f6c3-43e4-f419-4f11587c2e07",
        "colab": {
          "base_uri": "https://localhost:8080/",
          "height": 51
        }
      },
      "source": [
        "!nvidia-smi"
      ],
      "execution_count": 6,
      "outputs": [
        {
          "output_type": "stream",
          "text": [
            "NVIDIA-SMI has failed because it couldn't communicate with the NVIDIA driver. Make sure that the latest NVIDIA driver is installed and running.\n",
            "\n"
          ],
          "name": "stdout"
        }
      ]
    },
    {
      "cell_type": "code",
      "metadata": {
        "id": "qgfb6AnKdsPd",
        "outputId": "8039d647-bc01-42f0-df84-0fdef97fbfd9",
        "colab": {
          "base_uri": "https://localhost:8080/",
          "height": 34
        }
      },
      "source": [
        "!gpustat -cp"
      ],
      "execution_count": 7,
      "outputs": [
        {
          "output_type": "stream",
          "text": [
            "Error on querying NVIDIA devices. Use --debug flag for details\n"
          ],
          "name": "stdout"
        }
      ]
    },
    {
      "cell_type": "markdown",
      "metadata": {
        "id": "_0IL8WfzMbui"
      },
      "source": [
        "## Test Data\n",
        "\n",
        "In real life, this data would be read from a CSV file or a data store. But for this tutorial, generating test data to keep it simple."
      ]
    },
    {
      "cell_type": "code",
      "metadata": {
        "id": "VkMVQnxVMYoK"
      },
      "source": [
        "def generate_test_data(size: int, days: int = 30):\n",
        "  fake = Faker()\n",
        "  Faker.seed(42)\n",
        "\n",
        "  PRIORITIES = {\n",
        "    0: 'HIGH',\n",
        "    1: 'MEDIUM',\n",
        "    2: 'LOW'\n",
        "  }\n",
        "\n",
        "  return pd.DataFrame({\n",
        "    'task_name': [\n",
        "      f'Task {i + 1}'\n",
        "      for i in range(size)\n",
        "    ],\n",
        "    'due_date': [\n",
        "      fake.date_between(start_date='today', end_date=f'+{days}d')\n",
        "      for _ in range(size)\n",
        "    ],\n",
        "    'priority': [\n",
        "      PRIORITIES[fake.pyint(min_value=0, max_value=(len(PRIORITIES) - 1))]\n",
        "      for i in range(size)\n",
        "    ]\n",
        "  })\n"
      ],
      "execution_count": 8,
      "outputs": []
    },
    {
      "cell_type": "code",
      "metadata": {
        "id": "UhWpIMDNIc2-",
        "outputId": "9a84f540-e2ac-44b9-adf1-0e55e7a6254b",
        "colab": {
          "base_uri": "https://localhost:8080/",
          "height": 529
        }
      },
      "source": [
        "# Try generate_test_data\n",
        "tmp_df = generate_test_data(10, 5)\n",
        "tmp_df.info()\n",
        "tmp_df.head(10)"
      ],
      "execution_count": 9,
      "outputs": [
        {
          "output_type": "stream",
          "text": [
            "<class 'pandas.core.frame.DataFrame'>\n",
            "RangeIndex: 10 entries, 0 to 9\n",
            "Data columns (total 3 columns):\n",
            " #   Column     Non-Null Count  Dtype \n",
            "---  ------     --------------  ----- \n",
            " 0   task_name  10 non-null     object\n",
            " 1   due_date   10 non-null     object\n",
            " 2   priority   10 non-null     object\n",
            "dtypes: object(3)\n",
            "memory usage: 368.0+ bytes\n"
          ],
          "name": "stdout"
        },
        {
          "output_type": "execute_result",
          "data": {
            "text/html": [
              "<div>\n",
              "<style scoped>\n",
              "    .dataframe tbody tr th:only-of-type {\n",
              "        vertical-align: middle;\n",
              "    }\n",
              "\n",
              "    .dataframe tbody tr th {\n",
              "        vertical-align: top;\n",
              "    }\n",
              "\n",
              "    .dataframe thead th {\n",
              "        text-align: right;\n",
              "    }\n",
              "</style>\n",
              "<table border=\"1\" class=\"dataframe\">\n",
              "  <thead>\n",
              "    <tr style=\"text-align: right;\">\n",
              "      <th></th>\n",
              "      <th>task_name</th>\n",
              "      <th>due_date</th>\n",
              "      <th>priority</th>\n",
              "    </tr>\n",
              "  </thead>\n",
              "  <tbody>\n",
              "    <tr>\n",
              "      <th>0</th>\n",
              "      <td>Task 1</td>\n",
              "      <td>2020-10-29</td>\n",
              "      <td>LOW</td>\n",
              "    </tr>\n",
              "    <tr>\n",
              "      <th>1</th>\n",
              "      <td>Task 2</td>\n",
              "      <td>2020-10-26</td>\n",
              "      <td>LOW</td>\n",
              "    </tr>\n",
              "    <tr>\n",
              "      <th>2</th>\n",
              "      <td>Task 3</td>\n",
              "      <td>2020-10-26</td>\n",
              "      <td>LOW</td>\n",
              "    </tr>\n",
              "    <tr>\n",
              "      <th>3</th>\n",
              "      <td>Task 4</td>\n",
              "      <td>2020-10-30</td>\n",
              "      <td>HIGH</td>\n",
              "    </tr>\n",
              "    <tr>\n",
              "      <th>4</th>\n",
              "      <td>Task 5</td>\n",
              "      <td>2020-10-27</td>\n",
              "      <td>LOW</td>\n",
              "    </tr>\n",
              "    <tr>\n",
              "      <th>5</th>\n",
              "      <td>Task 6</td>\n",
              "      <td>2020-10-27</td>\n",
              "      <td>MEDIUM</td>\n",
              "    </tr>\n",
              "    <tr>\n",
              "      <th>6</th>\n",
              "      <td>Task 7</td>\n",
              "      <td>2020-10-27</td>\n",
              "      <td>HIGH</td>\n",
              "    </tr>\n",
              "    <tr>\n",
              "      <th>7</th>\n",
              "      <td>Task 8</td>\n",
              "      <td>2020-10-26</td>\n",
              "      <td>HIGH</td>\n",
              "    </tr>\n",
              "    <tr>\n",
              "      <th>8</th>\n",
              "      <td>Task 9</td>\n",
              "      <td>2020-10-30</td>\n",
              "      <td>HIGH</td>\n",
              "    </tr>\n",
              "    <tr>\n",
              "      <th>9</th>\n",
              "      <td>Task 10</td>\n",
              "      <td>2020-10-26</td>\n",
              "      <td>HIGH</td>\n",
              "    </tr>\n",
              "  </tbody>\n",
              "</table>\n",
              "</div>"
            ],
            "text/plain": [
              "  task_name    due_date priority\n",
              "0    Task 1  2020-10-29      LOW\n",
              "1    Task 2  2020-10-26      LOW\n",
              "2    Task 3  2020-10-26      LOW\n",
              "3    Task 4  2020-10-30     HIGH\n",
              "4    Task 5  2020-10-27      LOW\n",
              "5    Task 6  2020-10-27   MEDIUM\n",
              "6    Task 7  2020-10-27     HIGH\n",
              "7    Task 8  2020-10-26     HIGH\n",
              "8    Task 9  2020-10-30     HIGH\n",
              "9   Task 10  2020-10-26     HIGH"
            ]
          },
          "metadata": {
            "tags": []
          },
          "execution_count": 9
        }
      ]
    },
    {
      "cell_type": "code",
      "metadata": {
        "id": "RuQ8EIoeb9hK",
        "outputId": "12281e66-34b5-4119-acf9-bebbe2574af2",
        "colab": {
          "base_uri": "https://localhost:8080/",
          "height": 35
        }
      },
      "source": [
        "tmp_df['task_name'].loc[0]"
      ],
      "execution_count": 10,
      "outputs": [
        {
          "output_type": "execute_result",
          "data": {
            "application/vnd.google.colaboratory.intrinsic+json": {
              "type": "string"
            },
            "text/plain": [
              "'Task 1'"
            ]
          },
          "metadata": {
            "tags": []
          },
          "execution_count": 10
        }
      ]
    },
    {
      "cell_type": "code",
      "metadata": {
        "id": "QIlB4k22CQZl",
        "outputId": "297b1ef5-f368-4c70-b044-c4b55ded4650",
        "colab": {
          "base_uri": "https://localhost:8080/",
          "height": 34
        }
      },
      "source": [
        "tmp_df['due_date'].loc[0]\n",
        "# pd.to_datetime(tmp_df['due_date']).dt.date.loc[0]"
      ],
      "execution_count": 11,
      "outputs": [
        {
          "output_type": "execute_result",
          "data": {
            "text/plain": [
              "datetime.date(2020, 10, 29)"
            ]
          },
          "metadata": {
            "tags": []
          },
          "execution_count": 11
        }
      ]
    },
    {
      "cell_type": "code",
      "metadata": {
        "id": "Uowr-JbbcDDY",
        "outputId": "918aabfa-cd55-43cf-fa7b-d221bfede25a",
        "colab": {
          "base_uri": "https://localhost:8080/",
          "height": 35
        }
      },
      "source": [
        "tmp_df['priority'].loc[0]"
      ],
      "execution_count": 12,
      "outputs": [
        {
          "output_type": "execute_result",
          "data": {
            "application/vnd.google.colaboratory.intrinsic+json": {
              "type": "string"
            },
            "text/plain": [
              "'LOW'"
            ]
          },
          "metadata": {
            "tags": []
          },
          "execution_count": 12
        }
      ]
    },
    {
      "cell_type": "markdown",
      "metadata": {
        "id": "i3i4ZSQSdGUD"
      },
      "source": [
        "### Generate Test Dataset"
      ]
    },
    {
      "cell_type": "code",
      "metadata": {
        "id": "jMkJuYz33bNW"
      },
      "source": [
        "K_MAX = 21"
      ],
      "execution_count": 13,
      "outputs": []
    },
    {
      "cell_type": "code",
      "metadata": {
        "id": "jsRezhLNdWK6"
      },
      "source": [
        "# Generate a million rows. Use sample from it to create various size data sets\n",
        "# Will take some time as Faker will be called sequencially.\n",
        "test_data_set = generate_test_data(1 + 2 ** K_MAX, 30)"
      ],
      "execution_count": 14,
      "outputs": []
    },
    {
      "cell_type": "code",
      "metadata": {
        "id": "ApFngawExp-E",
        "outputId": "05a5dccb-1a7e-462f-e03c-ff62d714772b",
        "colab": {
          "base_uri": "https://localhost:8080/",
          "height": 204
        }
      },
      "source": [
        "test_data_set.head(5)"
      ],
      "execution_count": 15,
      "outputs": [
        {
          "output_type": "execute_result",
          "data": {
            "text/html": [
              "<div>\n",
              "<style scoped>\n",
              "    .dataframe tbody tr th:only-of-type {\n",
              "        vertical-align: middle;\n",
              "    }\n",
              "\n",
              "    .dataframe tbody tr th {\n",
              "        vertical-align: top;\n",
              "    }\n",
              "\n",
              "    .dataframe thead th {\n",
              "        text-align: right;\n",
              "    }\n",
              "</style>\n",
              "<table border=\"1\" class=\"dataframe\">\n",
              "  <thead>\n",
              "    <tr style=\"text-align: right;\">\n",
              "      <th></th>\n",
              "      <th>task_name</th>\n",
              "      <th>due_date</th>\n",
              "      <th>priority</th>\n",
              "    </tr>\n",
              "  </thead>\n",
              "  <tbody>\n",
              "    <tr>\n",
              "      <th>0</th>\n",
              "      <td>Task 1</td>\n",
              "      <td>2020-10-31</td>\n",
              "      <td>LOW</td>\n",
              "    </tr>\n",
              "    <tr>\n",
              "      <th>1</th>\n",
              "      <td>Task 2</td>\n",
              "      <td>2020-10-27</td>\n",
              "      <td>HIGH</td>\n",
              "    </tr>\n",
              "    <tr>\n",
              "      <th>2</th>\n",
              "      <td>Task 3</td>\n",
              "      <td>2020-11-08</td>\n",
              "      <td>MEDIUM</td>\n",
              "    </tr>\n",
              "    <tr>\n",
              "      <th>3</th>\n",
              "      <td>Task 4</td>\n",
              "      <td>2020-11-06</td>\n",
              "      <td>LOW</td>\n",
              "    </tr>\n",
              "    <tr>\n",
              "      <th>4</th>\n",
              "      <td>Task 5</td>\n",
              "      <td>2020-11-05</td>\n",
              "      <td>HIGH</td>\n",
              "    </tr>\n",
              "  </tbody>\n",
              "</table>\n",
              "</div>"
            ],
            "text/plain": [
              "  task_name    due_date priority\n",
              "0    Task 1  2020-10-31      LOW\n",
              "1    Task 2  2020-10-27     HIGH\n",
              "2    Task 3  2020-11-08   MEDIUM\n",
              "3    Task 4  2020-11-06      LOW\n",
              "4    Task 5  2020-11-05     HIGH"
            ]
          },
          "metadata": {
            "tags": []
          },
          "execution_count": 15
        }
      ]
    },
    {
      "cell_type": "code",
      "metadata": {
        "id": "xcNRQLUJPHpC"
      },
      "source": [
        "def test_data_sample(size: int):\n",
        "  return test_data_set.sample(n=size).copy().reset_index(drop=True)"
      ],
      "execution_count": 16,
      "outputs": []
    },
    {
      "cell_type": "code",
      "metadata": {
        "id": "DyP1e_64eFVz",
        "outputId": "f6f3dd4d-dd34-414a-d211-e619570fc77e",
        "colab": {
          "base_uri": "https://localhost:8080/",
          "height": 204
        }
      },
      "source": [
        "# Test sample of size 10\n",
        "test_data_sample(10).head(5)"
      ],
      "execution_count": 17,
      "outputs": [
        {
          "output_type": "execute_result",
          "data": {
            "text/html": [
              "<div>\n",
              "<style scoped>\n",
              "    .dataframe tbody tr th:only-of-type {\n",
              "        vertical-align: middle;\n",
              "    }\n",
              "\n",
              "    .dataframe tbody tr th {\n",
              "        vertical-align: top;\n",
              "    }\n",
              "\n",
              "    .dataframe thead th {\n",
              "        text-align: right;\n",
              "    }\n",
              "</style>\n",
              "<table border=\"1\" class=\"dataframe\">\n",
              "  <thead>\n",
              "    <tr style=\"text-align: right;\">\n",
              "      <th></th>\n",
              "      <th>task_name</th>\n",
              "      <th>due_date</th>\n",
              "      <th>priority</th>\n",
              "    </tr>\n",
              "  </thead>\n",
              "  <tbody>\n",
              "    <tr>\n",
              "      <th>0</th>\n",
              "      <td>Task 260875</td>\n",
              "      <td>2020-11-16</td>\n",
              "      <td>HIGH</td>\n",
              "    </tr>\n",
              "    <tr>\n",
              "      <th>1</th>\n",
              "      <td>Task 1565503</td>\n",
              "      <td>2020-11-10</td>\n",
              "      <td>HIGH</td>\n",
              "    </tr>\n",
              "    <tr>\n",
              "      <th>2</th>\n",
              "      <td>Task 2054518</td>\n",
              "      <td>2020-10-29</td>\n",
              "      <td>MEDIUM</td>\n",
              "    </tr>\n",
              "    <tr>\n",
              "      <th>3</th>\n",
              "      <td>Task 664720</td>\n",
              "      <td>2020-11-13</td>\n",
              "      <td>MEDIUM</td>\n",
              "    </tr>\n",
              "    <tr>\n",
              "      <th>4</th>\n",
              "      <td>Task 1295642</td>\n",
              "      <td>2020-11-16</td>\n",
              "      <td>MEDIUM</td>\n",
              "    </tr>\n",
              "  </tbody>\n",
              "</table>\n",
              "</div>"
            ],
            "text/plain": [
              "      task_name    due_date priority\n",
              "0   Task 260875  2020-11-16     HIGH\n",
              "1  Task 1565503  2020-11-10     HIGH\n",
              "2  Task 2054518  2020-10-29   MEDIUM\n",
              "3   Task 664720  2020-11-13   MEDIUM\n",
              "4  Task 1295642  2020-11-16   MEDIUM"
            ]
          },
          "metadata": {
            "tags": []
          },
          "execution_count": 17
        }
      ]
    },
    {
      "cell_type": "code",
      "metadata": {
        "id": "s8FXpGcqzUCg",
        "outputId": "80878f57-0e59-44ed-8c85-059f70c85d71",
        "colab": {
          "base_uri": "https://localhost:8080/",
          "height": 204
        }
      },
      "source": [
        "test_data_set.head(5)"
      ],
      "execution_count": 18,
      "outputs": [
        {
          "output_type": "execute_result",
          "data": {
            "text/html": [
              "<div>\n",
              "<style scoped>\n",
              "    .dataframe tbody tr th:only-of-type {\n",
              "        vertical-align: middle;\n",
              "    }\n",
              "\n",
              "    .dataframe tbody tr th {\n",
              "        vertical-align: top;\n",
              "    }\n",
              "\n",
              "    .dataframe thead th {\n",
              "        text-align: right;\n",
              "    }\n",
              "</style>\n",
              "<table border=\"1\" class=\"dataframe\">\n",
              "  <thead>\n",
              "    <tr style=\"text-align: right;\">\n",
              "      <th></th>\n",
              "      <th>task_name</th>\n",
              "      <th>due_date</th>\n",
              "      <th>priority</th>\n",
              "    </tr>\n",
              "  </thead>\n",
              "  <tbody>\n",
              "    <tr>\n",
              "      <th>0</th>\n",
              "      <td>Task 1</td>\n",
              "      <td>2020-10-31</td>\n",
              "      <td>LOW</td>\n",
              "    </tr>\n",
              "    <tr>\n",
              "      <th>1</th>\n",
              "      <td>Task 2</td>\n",
              "      <td>2020-10-27</td>\n",
              "      <td>HIGH</td>\n",
              "    </tr>\n",
              "    <tr>\n",
              "      <th>2</th>\n",
              "      <td>Task 3</td>\n",
              "      <td>2020-11-08</td>\n",
              "      <td>MEDIUM</td>\n",
              "    </tr>\n",
              "    <tr>\n",
              "      <th>3</th>\n",
              "      <td>Task 4</td>\n",
              "      <td>2020-11-06</td>\n",
              "      <td>LOW</td>\n",
              "    </tr>\n",
              "    <tr>\n",
              "      <th>4</th>\n",
              "      <td>Task 5</td>\n",
              "      <td>2020-11-05</td>\n",
              "      <td>HIGH</td>\n",
              "    </tr>\n",
              "  </tbody>\n",
              "</table>\n",
              "</div>"
            ],
            "text/plain": [
              "  task_name    due_date priority\n",
              "0    Task 1  2020-10-31      LOW\n",
              "1    Task 2  2020-10-27     HIGH\n",
              "2    Task 3  2020-11-08   MEDIUM\n",
              "3    Task 4  2020-11-06      LOW\n",
              "4    Task 5  2020-11-05     HIGH"
            ]
          },
          "metadata": {
            "tags": []
          },
          "execution_count": 18
        }
      ]
    },
    {
      "cell_type": "markdown",
      "metadata": {
        "id": "dV30ih-zMjZh"
      },
      "source": [
        "## Optimize DataFrame Storage\n",
        "\n",
        "Compacting the data not only saves space, but also speeds up the processing. Two common opportunities are:\n",
        "\n",
        "- Converting timestamp strings or datetime to [datetime64](https://pandas.pydata.org/pandas-docs/stable/user_guide/timeseries.html)\n",
        "- Converting strings of enum types to [Categorical](https://pandas.pydata.org/pandas-docs/stable/user_guide/categorical.html) data type\n",
        "\n",
        "For fair comparision, compression test data to max extent possible."
      ]
    },
    {
      "cell_type": "code",
      "metadata": {
        "id": "pyIn47WiMrHK",
        "outputId": "9620cf3d-0ad3-483f-8c7a-d5fa3ed7537a",
        "colab": {
          "base_uri": "https://localhost:8080/",
          "height": 187
        }
      },
      "source": [
        "test_data_set.info()"
      ],
      "execution_count": 19,
      "outputs": [
        {
          "output_type": "stream",
          "text": [
            "<class 'pandas.core.frame.DataFrame'>\n",
            "RangeIndex: 2097153 entries, 0 to 2097152\n",
            "Data columns (total 3 columns):\n",
            " #   Column     Dtype \n",
            "---  ------     ----- \n",
            " 0   task_name  object\n",
            " 1   due_date   object\n",
            " 2   priority   object\n",
            "dtypes: object(3)\n",
            "memory usage: 48.0+ MB\n"
          ],
          "name": "stdout"
        }
      ]
    },
    {
      "cell_type": "code",
      "metadata": {
        "id": "8JnGXQNKaa8B"
      },
      "source": [
        "priority_dtype = pd.api.types.CategoricalDtype(\n",
        "  categories=['LOW', 'MEDIUM', 'HIGH'],\n",
        "  ordered=True\n",
        ")"
      ],
      "execution_count": 20,
      "outputs": []
    },
    {
      "cell_type": "code",
      "metadata": {
        "id": "08OvgJZL-s8s",
        "outputId": "2bd23836-b8a4-4343-b226-8ebe2f767247",
        "colab": {
          "base_uri": "https://localhost:8080/",
          "height": 34
        }
      },
      "source": [
        "priority_map = dict(enumerate(pd.Series(['']).astype(priority_dtype).cat.categories))\n",
        "priority_map"
      ],
      "execution_count": 21,
      "outputs": [
        {
          "output_type": "execute_result",
          "data": {
            "text/plain": [
              "{0: 'LOW', 1: 'MEDIUM', 2: 'HIGH'}"
            ]
          },
          "metadata": {
            "tags": []
          },
          "execution_count": 21
        }
      ]
    },
    {
      "cell_type": "code",
      "metadata": {
        "id": "Pv5F5MnHiqrA",
        "outputId": "d57bc5d1-625f-469e-e854-75092527a113",
        "colab": {
          "base_uri": "https://localhost:8080/",
          "height": 187
        }
      },
      "source": [
        "test_data_set['priority'] = test_data_set['priority'].astype(priority_dtype)\n",
        "test_data_set.info()"
      ],
      "execution_count": 22,
      "outputs": [
        {
          "output_type": "stream",
          "text": [
            "<class 'pandas.core.frame.DataFrame'>\n",
            "RangeIndex: 2097153 entries, 0 to 2097152\n",
            "Data columns (total 3 columns):\n",
            " #   Column     Dtype   \n",
            "---  ------     -----   \n",
            " 0   task_name  object  \n",
            " 1   due_date   object  \n",
            " 2   priority   category\n",
            "dtypes: category(1), object(2)\n",
            "memory usage: 34.0+ MB\n"
          ],
          "name": "stdout"
        }
      ]
    },
    {
      "cell_type": "code",
      "metadata": {
        "id": "AYjdRWmYoGSx",
        "outputId": "711a9505-ec54-45b7-a918-3a347aa41609",
        "colab": {
          "base_uri": "https://localhost:8080/",
          "height": 35
        }
      },
      "source": [
        "test_data_set['priority'].loc[0]"
      ],
      "execution_count": 23,
      "outputs": [
        {
          "output_type": "execute_result",
          "data": {
            "application/vnd.google.colaboratory.intrinsic+json": {
              "type": "string"
            },
            "text/plain": [
              "'LOW'"
            ]
          },
          "metadata": {
            "tags": []
          },
          "execution_count": 23
        }
      ]
    },
    {
      "cell_type": "markdown",
      "metadata": {
        "id": "6aUQ7kNNniA3"
      },
      "source": [
        "Using category for priority reduced the memory usage by ~30%."
      ]
    },
    {
      "cell_type": "markdown",
      "metadata": {
        "id": "mSUlG6gOMvu7"
      },
      "source": [
        "## Optimize DataFrame Processing Time"
      ]
    },
    {
      "cell_type": "markdown",
      "metadata": {
        "id": "kQ0d8vSlHGAW"
      },
      "source": [
        "### The Eisenhower Method\n",
        "\n",
        "Decide about action needed using [Eisenhower method](https://en.wikipedia.org/wiki/Time_management#The_Eisenhower_Method):\n",
        "\n",
        "| Important | Urgent    | Binary | Int | Action   |\n",
        "| --------- | --------- | :----: | :-: | -------- |\n",
        "| True (1)  | True (1)  |   11   |  3  | DO       |\n",
        "| True (1)  | False (0) |   10   |  2  | SCHEDULE |\n",
        "| False (0) | True (1)  |   01   |  1  | DELEGATE |\n",
        "| False (0) | False (0) |   00   |  0  | DELETE   |"
      ]
    },
    {
      "cell_type": "code",
      "metadata": {
        "id": "Y9HmUqc4HYmN"
      },
      "source": [
        "action_dtype = pd.api.types.CategoricalDtype(\n",
        "  categories=['DELETE', 'DELEGATE', 'SCHEDULE', 'DO'],\n",
        "  ordered=True\n",
        ")"
      ],
      "execution_count": 24,
      "outputs": []
    },
    {
      "cell_type": "code",
      "metadata": {
        "id": "-3yHfVqRHZGm",
        "outputId": "dfe9b4af-03bc-40a4-85b4-a84bfaeb1710",
        "colab": {
          "base_uri": "https://localhost:8080/",
          "height": 34
        }
      },
      "source": [
        "action_map = dict(enumerate(pd.Series(['']).astype(action_dtype).cat.categories))\n",
        "action_map"
      ],
      "execution_count": 25,
      "outputs": [
        {
          "output_type": "execute_result",
          "data": {
            "text/plain": [
              "{0: 'DELETE', 1: 'DELEGATE', 2: 'SCHEDULE', 3: 'DO'}"
            ]
          },
          "metadata": {
            "tags": []
          },
          "execution_count": 25
        }
      ]
    },
    {
      "cell_type": "code",
      "metadata": {
        "id": "J-ckAXUV0OWB"
      },
      "source": [
        "def eisenhower_action(is_important: bool, is_urgent: bool) -> int:\n",
        "  return 2 * is_important + is_urgent\n",
        "\n",
        "def eisenhower_action_str(is_important: bool, is_urgent: bool) -> str:\n",
        "  return action_map[eisenhower_action(is_important, is_urgent)]"
      ],
      "execution_count": 26,
      "outputs": []
    },
    {
      "cell_type": "code",
      "metadata": {
        "id": "BzVGTCZ4XyUw"
      },
      "source": [
        "# Let's say anything due by tomorrow is Urgent\n",
        "cutoff_date = datetime.date.today() + datetime.timedelta(days=2)"
      ],
      "execution_count": 27,
      "outputs": []
    },
    {
      "cell_type": "code",
      "metadata": {
        "id": "ZrVtS6eX4YdJ",
        "outputId": "33b148df-a0a5-449b-ccaf-7c2d867584e8",
        "colab": {
          "base_uri": "https://localhost:8080/",
          "height": 35
        }
      },
      "source": [
        "# Test compute_eisenhower_action\n",
        "\n",
        "eisenhower_action_str(\n",
        "  test_data_set.loc[0].priority == 'HIGH',\n",
        "  test_data_set.loc[0].due_date <= cutoff_date\n",
        ")"
      ],
      "execution_count": 28,
      "outputs": [
        {
          "output_type": "execute_result",
          "data": {
            "application/vnd.google.colaboratory.intrinsic+json": {
              "type": "string"
            },
            "text/plain": [
              "'DELETE'"
            ]
          },
          "metadata": {
            "tags": []
          },
          "execution_count": 28
        }
      ]
    },
    {
      "cell_type": "code",
      "metadata": {
        "id": "Wwy6iBF3Ui8v"
      },
      "source": [
        "# Work with a smaller data set to try each alternative\n",
        "data_sample = test_data_sample(100000)"
      ],
      "execution_count": 29,
      "outputs": []
    },
    {
      "cell_type": "markdown",
      "metadata": {
        "id": "Z30TqS6PQ07E"
      },
      "source": [
        "### Method 1: Loop Over All Rows of a DataFrame"
      ]
    },
    {
      "cell_type": "code",
      "metadata": {
        "id": "JsxOxGu2RQgX"
      },
      "source": [
        "def loop_impl(df):\n",
        "  cutoff_date = datetime.date.today() + datetime.timedelta(days=2)\n",
        "\n",
        "  result = []\n",
        "  for i in range(len(df)):\n",
        "    row = df.iloc[i]\n",
        "    result.append(\n",
        "      eisenhower_action(row.priority == 'HIGH', row.due_date <= cutoff_date)\n",
        "    )\n",
        "\n",
        "  return pd.Series(result)"
      ],
      "execution_count": 30,
      "outputs": []
    },
    {
      "cell_type": "code",
      "metadata": {
        "id": "c9k4BSpRTlVu",
        "outputId": "bdf605b7-da6b-48bd-920b-7eb3c3d84de0",
        "colab": {
          "base_uri": "https://localhost:8080/",
          "height": 34
        }
      },
      "source": [
        "%timeit data_sample['action_loop'] = loop_impl(data_sample)"
      ],
      "execution_count": 31,
      "outputs": [
        {
          "output_type": "stream",
          "text": [
            "1 loop, best of 3: 37.6 s per loop\n"
          ],
          "name": "stdout"
        }
      ]
    },
    {
      "cell_type": "code",
      "metadata": {
        "id": "Gfaj7lxELRNf"
      },
      "source": [
        "%lprun -f loop_impl  loop_impl(test_data_sample(100))"
      ],
      "execution_count": 32,
      "outputs": []
    },
    {
      "cell_type": "markdown",
      "metadata": {
        "id": "CtX8RTnMM7uU"
      },
      "source": [
        "### Method 2: Iterate over rows with `iterrows` Function"
      ]
    },
    {
      "cell_type": "code",
      "metadata": {
        "id": "hBXHW8cGRMqV"
      },
      "source": [
        "def iterrows_impl(df):\n",
        "  cutoff_date = datetime.date.today() + datetime.timedelta(days=2)\n",
        "  return pd.Series(\n",
        "    eisenhower_action(row.priority == 'HIGH', row.due_date <= cutoff_date)\n",
        "    for index, row in df.iterrows()\n",
        "  )"
      ],
      "execution_count": 33,
      "outputs": []
    },
    {
      "cell_type": "code",
      "metadata": {
        "id": "08rVStuRNCmh",
        "outputId": "fb4bb2e7-6258-4483-c886-804b91e17286",
        "colab": {
          "base_uri": "https://localhost:8080/",
          "height": 34
        }
      },
      "source": [
        "%timeit data_sample['action_iterrow'] = iterrows_impl(data_sample)"
      ],
      "execution_count": 34,
      "outputs": [
        {
          "output_type": "stream",
          "text": [
            "1 loop, best of 3: 9.52 s per loop\n"
          ],
          "name": "stdout"
        }
      ]
    },
    {
      "cell_type": "markdown",
      "metadata": {
        "id": "WbQdCzeyaFGu"
      },
      "source": [
        "### Method 3: Iterate over rows with `itertuples` Function"
      ]
    },
    {
      "cell_type": "code",
      "metadata": {
        "id": "zJTC1fd_aZsn"
      },
      "source": [
        "def itertuples_impl(df):\n",
        "  cutoff_date = datetime.date.today() + datetime.timedelta(days=2)\n",
        "  return pd.Series(\n",
        "    eisenhower_action(row.priority == 'HIGH', row.due_date <= cutoff_date)\n",
        "    for row in df.itertuples()\n",
        "  )"
      ],
      "execution_count": 35,
      "outputs": []
    },
    {
      "cell_type": "code",
      "metadata": {
        "id": "H6O01yB1cSc8",
        "outputId": "14e59377-4a0f-4f26-affb-6242b98b7975",
        "colab": {
          "base_uri": "https://localhost:8080/",
          "height": 34
        }
      },
      "source": [
        "%timeit data_sample['action_itertuples'] = itertuples_impl(data_sample)"
      ],
      "execution_count": 36,
      "outputs": [
        {
          "output_type": "stream",
          "text": [
            "10 loops, best of 3: 198 ms per loop\n"
          ],
          "name": "stdout"
        }
      ]
    },
    {
      "cell_type": "markdown",
      "metadata": {
        "id": "VuIUVfqyNEVz"
      },
      "source": [
        "### Method 4: Pandas `apply` Function to Every Row"
      ]
    },
    {
      "cell_type": "code",
      "metadata": {
        "id": "tUYovpRjXZWC"
      },
      "source": [
        "def apply_impl(df):\n",
        "  cutoff_date = datetime.date.today() + datetime.timedelta(days=2)\n",
        "  return df.apply(\n",
        "    lambda row: eisenhower_action(row.priority == 'HIGH', row.due_date <= cutoff_date),\n",
        "    axis=1\n",
        "  )"
      ],
      "execution_count": 37,
      "outputs": []
    },
    {
      "cell_type": "code",
      "metadata": {
        "id": "HKhDaS_3ZZdN",
        "outputId": "8c6957f9-37a0-4d2b-d06c-cc55b032a98b",
        "colab": {
          "base_uri": "https://localhost:8080/",
          "height": 34
        }
      },
      "source": [
        "%timeit data_sample['action_impl'] = apply_impl(data_sample)"
      ],
      "execution_count": 38,
      "outputs": [
        {
          "output_type": "stream",
          "text": [
            "1 loop, best of 3: 1.79 s per loop\n"
          ],
          "name": "stdout"
        }
      ]
    },
    {
      "cell_type": "markdown",
      "metadata": {
        "id": "XgfEOC0GhMML"
      },
      "source": [
        "### Method 5: List Comprehension"
      ]
    },
    {
      "cell_type": "code",
      "metadata": {
        "id": "EW0UvK5UsEJ2"
      },
      "source": [
        "def list_impl(df):\n",
        "  cutoff_date = datetime.date.today() + datetime.timedelta(days=2)\n",
        "  return pd.Series([\n",
        "    eisenhower_action(priority == 'HIGH', due_date <= cutoff_date)\n",
        "    for (priority, due_date) in zip(df['priority'], df['due_date'])\n",
        "  ])"
      ],
      "execution_count": 39,
      "outputs": []
    },
    {
      "cell_type": "code",
      "metadata": {
        "id": "BEAqo7hxxZ21",
        "outputId": "b39dfad2-361d-491b-d828-fb45e0c2df5e",
        "colab": {
          "base_uri": "https://localhost:8080/",
          "height": 34
        }
      },
      "source": [
        "%timeit data_sample['action_list'] = list_impl(data_sample)"
      ],
      "execution_count": 40,
      "outputs": [
        {
          "output_type": "stream",
          "text": [
            "10 loops, best of 3: 76 ms per loop\n"
          ],
          "name": "stdout"
        }
      ]
    },
    {
      "cell_type": "markdown",
      "metadata": {
        "id": "kPdjc4cery0V"
      },
      "source": [
        "### Method 6: *Vectorization*"
      ]
    },
    {
      "cell_type": "code",
      "metadata": {
        "id": "9blk7rtir4IM"
      },
      "source": [
        "def vec_impl(df):\n",
        "  cutoff_date = datetime.date.today() + datetime.timedelta(days=2)\n",
        "  return (2*(df['priority'] == 'HIGH') + (df['due_date'] <= cutoff_date))"
      ],
      "execution_count": 41,
      "outputs": []
    },
    {
      "cell_type": "code",
      "metadata": {
        "id": "hFhrzXfB5qxj",
        "outputId": "6090c49a-a809-423b-b196-6ae11105d259",
        "colab": {
          "base_uri": "https://localhost:8080/",
          "height": 34
        }
      },
      "source": [
        "%timeit data_sample['action_vec'] = vec_impl(data_sample)"
      ],
      "execution_count": 42,
      "outputs": [
        {
          "output_type": "stream",
          "text": [
            "10 loops, best of 3: 21.5 ms per loop\n"
          ],
          "name": "stdout"
        }
      ]
    },
    {
      "cell_type": "markdown",
      "metadata": {
        "id": "B5pnlol0XcBS"
      },
      "source": [
        "### Method 7: NumPy `vectorize` function\n",
        "\n",
        "Ref.: [From Python to NumPy](https://www.labri.fr/perso/nrougier/from-python-to-numpy/)"
      ]
    },
    {
      "cell_type": "code",
      "metadata": {
        "id": "_cYUZ2Z-iutb"
      },
      "source": [
        "def np_vec_impl(df):\n",
        "  cutoff_date = datetime.date.today() + datetime.timedelta(days=2)\n",
        "  return np.vectorize(eisenhower_action)(df['priority'] == 'HIGH', df['due_date'] <= cutoff_date)"
      ],
      "execution_count": 43,
      "outputs": []
    },
    {
      "cell_type": "code",
      "metadata": {
        "id": "l3mno_5Rjv1C",
        "outputId": "e4508ad4-8c58-45d0-8a32-375053f0558a",
        "colab": {
          "base_uri": "https://localhost:8080/",
          "height": 34
        }
      },
      "source": [
        "%timeit data_sample['action_np_vec'] = np_vec_impl(data_sample)"
      ],
      "execution_count": 44,
      "outputs": [
        {
          "output_type": "stream",
          "text": [
            "10 loops, best of 3: 37.2 ms per loop\n"
          ],
          "name": "stdout"
        }
      ]
    },
    {
      "cell_type": "markdown",
      "metadata": {
        "id": "k0a_Hr0n0Gqk"
      },
      "source": [
        "### Method 8: Numba Decorators\n",
        "\n",
        "[Numba](https://numba.pydata.org) is commonly used to speed up applying mathmatical functions."
      ]
    },
    {
      "cell_type": "code",
      "metadata": {
        "id": "04aAxGcG1Rfb"
      },
      "source": [
        "import numba\n",
        "\n",
        "@numba.vectorize\n",
        "def numba_eisenhower_action(is_important: bool, is_urgent: bool) -> int:\n",
        "  return 2 * is_important + is_urgent\n",
        "\n",
        "def numba_impl(df):\n",
        "  cutoff_date = datetime.date.today() + datetime.timedelta(days=2)\n",
        "  return numba_eisenhower_action(\n",
        "    (df['priority'] == 'HIGH').to_numpy(),\n",
        "    (df['due_date'] <= cutoff_date).to_numpy()\n",
        "  )"
      ],
      "execution_count": 45,
      "outputs": []
    },
    {
      "cell_type": "code",
      "metadata": {
        "id": "rJgIE2YX319K",
        "outputId": "8966f99a-57d8-4be3-9a1a-3df78ee22f43",
        "colab": {
          "base_uri": "https://localhost:8080/",
          "height": 51
        }
      },
      "source": [
        "%timeit data_sample['action_numba'] = numba_impl(data_sample)"
      ],
      "execution_count": 46,
      "outputs": [
        {
          "output_type": "stream",
          "text": [
            "The slowest run took 9.55 times longer than the fastest. This could mean that an intermediate result is being cached.\n",
            "10 loops, best of 3: 19.4 ms per loop\n"
          ],
          "name": "stdout"
        }
      ]
    },
    {
      "cell_type": "markdown",
      "metadata": {
        "id": "trRh9Sbc6Mfb"
      },
      "source": [
        "### Method 9: Multiprocessing with `pandarallel` "
      ]
    },
    {
      "cell_type": "code",
      "metadata": {
        "id": "cVS686u86T4H",
        "outputId": "e6f0b617-d380-462e-a370-c25ad42c1918",
        "colab": {
          "base_uri": "https://localhost:8080/",
          "height": 51
        }
      },
      "source": [
        "from pandarallel import pandarallel\n",
        "\n",
        "pandarallel.initialize()\n",
        "\n",
        "def pandarallel_impl(df):\n",
        "  cutoff_date = datetime.date.today() + datetime.timedelta(days=2)\n",
        "  return df.parallel_apply(\n",
        "    lambda row: eisenhower_action(row.priority == 'HIGH', row.due_date <= cutoff_date),\n",
        "    axis=1\n",
        "  )"
      ],
      "execution_count": 47,
      "outputs": [
        {
          "output_type": "stream",
          "text": [
            "INFO: Pandarallel will run on 2 workers.\n",
            "INFO: Pandarallel will use Memory file system to transfer data between the main process and workers.\n"
          ],
          "name": "stdout"
        }
      ]
    },
    {
      "cell_type": "code",
      "metadata": {
        "id": "qD9isuTE8xvT",
        "outputId": "1f78047d-32ee-44e7-d9fd-9288722318fe",
        "colab": {
          "base_uri": "https://localhost:8080/",
          "height": 34
        }
      },
      "source": [
        "%timeit data_sample['action_pandarallel'] = pandarallel_impl(data_sample)"
      ],
      "execution_count": 48,
      "outputs": [
        {
          "output_type": "stream",
          "text": [
            "1 loop, best of 3: 2.21 s per loop\n"
          ],
          "name": "stdout"
        }
      ]
    },
    {
      "cell_type": "markdown",
      "metadata": {
        "id": "Z5BSckOfA5Fe"
      },
      "source": [
        "### Method 10: Parallelize with Dask\n",
        "\n",
        "[Dask](https://dask.org) is a parallel computing library that supports scaling up NumPy, Pandas, Scikit-learn and many other Python libraries.\n"
      ]
    },
    {
      "cell_type": "code",
      "metadata": {
        "id": "abwkBjCDB0AH"
      },
      "source": [
        "import dask.dataframe as dd\n",
        "\n",
        "def dask_impl(df):\n",
        "  cutoff_date = datetime.date.today() + datetime.timedelta(days=2)\n",
        "  return dd.from_pandas(df, npartitions=CPU_COUNT).apply(\n",
        "    lambda row: eisenhower_action(row.priority == 'HIGH', row.due_date <= cutoff_date),\n",
        "    axis=1,\n",
        "    meta=(int)\n",
        "  ).compute()"
      ],
      "execution_count": 49,
      "outputs": []
    },
    {
      "cell_type": "code",
      "metadata": {
        "id": "1R656fvAD6F3",
        "outputId": "9f8ce663-71ef-41a5-f288-83797e721c84",
        "colab": {
          "base_uri": "https://localhost:8080/",
          "height": 34
        }
      },
      "source": [
        "%timeit data_sample['action_dask'] = dask_impl(data_sample)"
      ],
      "execution_count": 50,
      "outputs": [
        {
          "output_type": "stream",
          "text": [
            "1 loop, best of 3: 2.07 s per loop\n"
          ],
          "name": "stdout"
        }
      ]
    },
    {
      "cell_type": "markdown",
      "metadata": {
        "id": "MToH2DqoEoWW"
      },
      "source": [
        "### Method 11: Opportunistic Parallelization with Swifter\n",
        "\n",
        "[Swifter](https://github.com/jmcarpenter2/swifter) automatically decides which is faster: to use dask parallel processing or a simple pandas apply."
      ]
    },
    {
      "cell_type": "code",
      "metadata": {
        "id": "8dF8rOshHMSa"
      },
      "source": [
        "import swifter\n",
        "\n",
        "def swifter_impl(df):\n",
        "  cutoff_date = datetime.date.today() + datetime.timedelta(days=2)\n",
        "  return df.swifter.apply(\n",
        "    lambda row: eisenhower_action(row.priority == 'HIGH', row.due_date <= cutoff_date),\n",
        "    axis=1\n",
        "  )"
      ],
      "execution_count": 51,
      "outputs": []
    },
    {
      "cell_type": "code",
      "metadata": {
        "id": "SbzxhRChHp6B",
        "outputId": "bf08f849-73cc-4d8c-ee9c-043ac9955675",
        "colab": {
          "base_uri": "https://localhost:8080/",
          "height": 34
        }
      },
      "source": [
        "%timeit data_sample['action_swifter'] = swifter_impl(data_sample)"
      ],
      "execution_count": 52,
      "outputs": [
        {
          "output_type": "stream",
          "text": [
            "10 loops, best of 3: 25 ms per loop\n"
          ],
          "name": "stdout"
        }
      ]
    },
    {
      "cell_type": "markdown",
      "metadata": {
        "id": "_TZMFYH1MNCL"
      },
      "source": [
        "### Test Correctness"
      ]
    },
    {
      "cell_type": "code",
      "metadata": {
        "id": "5XMIXhq-MRqZ",
        "outputId": "524607ed-5731-4e82-a00c-4a16ce8295cc",
        "colab": {
          "base_uri": "https://localhost:8080/",
          "height": 69
        }
      },
      "source": [
        "data_sample[data_sample['action_loop'] != data_sample['action_iterrow']]"
      ],
      "execution_count": 53,
      "outputs": [
        {
          "output_type": "execute_result",
          "data": {
            "text/html": [
              "<div>\n",
              "<style scoped>\n",
              "    .dataframe tbody tr th:only-of-type {\n",
              "        vertical-align: middle;\n",
              "    }\n",
              "\n",
              "    .dataframe tbody tr th {\n",
              "        vertical-align: top;\n",
              "    }\n",
              "\n",
              "    .dataframe thead th {\n",
              "        text-align: right;\n",
              "    }\n",
              "</style>\n",
              "<table border=\"1\" class=\"dataframe\">\n",
              "  <thead>\n",
              "    <tr style=\"text-align: right;\">\n",
              "      <th></th>\n",
              "      <th>task_name</th>\n",
              "      <th>due_date</th>\n",
              "      <th>priority</th>\n",
              "      <th>action_loop</th>\n",
              "      <th>action_iterrow</th>\n",
              "      <th>action_itertuples</th>\n",
              "      <th>action_impl</th>\n",
              "      <th>action_list</th>\n",
              "      <th>action_vec</th>\n",
              "      <th>action_np_vec</th>\n",
              "      <th>action_numba</th>\n",
              "      <th>action_pandarallel</th>\n",
              "      <th>action_dask</th>\n",
              "      <th>action_swifter</th>\n",
              "    </tr>\n",
              "  </thead>\n",
              "  <tbody>\n",
              "  </tbody>\n",
              "</table>\n",
              "</div>"
            ],
            "text/plain": [
              "Empty DataFrame\n",
              "Columns: [task_name, due_date, priority, action_loop, action_iterrow, action_itertuples, action_impl, action_list, action_vec, action_np_vec, action_numba, action_pandarallel, action_dask, action_swifter]\n",
              "Index: []"
            ]
          },
          "metadata": {
            "tags": []
          },
          "execution_count": 53
        }
      ]
    },
    {
      "cell_type": "code",
      "metadata": {
        "id": "meji8zshSJQ9",
        "outputId": "4f0f00eb-8e02-4f84-e6a3-f0e5f5a525ed",
        "colab": {
          "base_uri": "https://localhost:8080/",
          "height": 69
        }
      },
      "source": [
        "data_sample[data_sample['action_loop'] != data_sample['action_itertuples']]"
      ],
      "execution_count": 54,
      "outputs": [
        {
          "output_type": "execute_result",
          "data": {
            "text/html": [
              "<div>\n",
              "<style scoped>\n",
              "    .dataframe tbody tr th:only-of-type {\n",
              "        vertical-align: middle;\n",
              "    }\n",
              "\n",
              "    .dataframe tbody tr th {\n",
              "        vertical-align: top;\n",
              "    }\n",
              "\n",
              "    .dataframe thead th {\n",
              "        text-align: right;\n",
              "    }\n",
              "</style>\n",
              "<table border=\"1\" class=\"dataframe\">\n",
              "  <thead>\n",
              "    <tr style=\"text-align: right;\">\n",
              "      <th></th>\n",
              "      <th>task_name</th>\n",
              "      <th>due_date</th>\n",
              "      <th>priority</th>\n",
              "      <th>action_loop</th>\n",
              "      <th>action_iterrow</th>\n",
              "      <th>action_itertuples</th>\n",
              "      <th>action_impl</th>\n",
              "      <th>action_list</th>\n",
              "      <th>action_vec</th>\n",
              "      <th>action_np_vec</th>\n",
              "      <th>action_numba</th>\n",
              "      <th>action_pandarallel</th>\n",
              "      <th>action_dask</th>\n",
              "      <th>action_swifter</th>\n",
              "    </tr>\n",
              "  </thead>\n",
              "  <tbody>\n",
              "  </tbody>\n",
              "</table>\n",
              "</div>"
            ],
            "text/plain": [
              "Empty DataFrame\n",
              "Columns: [task_name, due_date, priority, action_loop, action_iterrow, action_itertuples, action_impl, action_list, action_vec, action_np_vec, action_numba, action_pandarallel, action_dask, action_swifter]\n",
              "Index: []"
            ]
          },
          "metadata": {
            "tags": []
          },
          "execution_count": 54
        }
      ]
    },
    {
      "cell_type": "code",
      "metadata": {
        "id": "NNcGmoNBSNrk",
        "outputId": "36405c08-6b8b-4dc3-be2c-38ade4a4d642",
        "colab": {
          "base_uri": "https://localhost:8080/",
          "height": 69
        }
      },
      "source": [
        "data_sample[data_sample['action_loop'] != data_sample['action_impl']]"
      ],
      "execution_count": 55,
      "outputs": [
        {
          "output_type": "execute_result",
          "data": {
            "text/html": [
              "<div>\n",
              "<style scoped>\n",
              "    .dataframe tbody tr th:only-of-type {\n",
              "        vertical-align: middle;\n",
              "    }\n",
              "\n",
              "    .dataframe tbody tr th {\n",
              "        vertical-align: top;\n",
              "    }\n",
              "\n",
              "    .dataframe thead th {\n",
              "        text-align: right;\n",
              "    }\n",
              "</style>\n",
              "<table border=\"1\" class=\"dataframe\">\n",
              "  <thead>\n",
              "    <tr style=\"text-align: right;\">\n",
              "      <th></th>\n",
              "      <th>task_name</th>\n",
              "      <th>due_date</th>\n",
              "      <th>priority</th>\n",
              "      <th>action_loop</th>\n",
              "      <th>action_iterrow</th>\n",
              "      <th>action_itertuples</th>\n",
              "      <th>action_impl</th>\n",
              "      <th>action_list</th>\n",
              "      <th>action_vec</th>\n",
              "      <th>action_np_vec</th>\n",
              "      <th>action_numba</th>\n",
              "      <th>action_pandarallel</th>\n",
              "      <th>action_dask</th>\n",
              "      <th>action_swifter</th>\n",
              "    </tr>\n",
              "  </thead>\n",
              "  <tbody>\n",
              "  </tbody>\n",
              "</table>\n",
              "</div>"
            ],
            "text/plain": [
              "Empty DataFrame\n",
              "Columns: [task_name, due_date, priority, action_loop, action_iterrow, action_itertuples, action_impl, action_list, action_vec, action_np_vec, action_numba, action_pandarallel, action_dask, action_swifter]\n",
              "Index: []"
            ]
          },
          "metadata": {
            "tags": []
          },
          "execution_count": 55
        }
      ]
    },
    {
      "cell_type": "code",
      "metadata": {
        "id": "K_R1niJ1SQau",
        "outputId": "ba9ce07c-09b3-4418-8d06-65469c1226b8",
        "colab": {
          "base_uri": "https://localhost:8080/",
          "height": 69
        }
      },
      "source": [
        "data_sample[data_sample['action_loop'] != data_sample['action_list']]"
      ],
      "execution_count": 56,
      "outputs": [
        {
          "output_type": "execute_result",
          "data": {
            "text/html": [
              "<div>\n",
              "<style scoped>\n",
              "    .dataframe tbody tr th:only-of-type {\n",
              "        vertical-align: middle;\n",
              "    }\n",
              "\n",
              "    .dataframe tbody tr th {\n",
              "        vertical-align: top;\n",
              "    }\n",
              "\n",
              "    .dataframe thead th {\n",
              "        text-align: right;\n",
              "    }\n",
              "</style>\n",
              "<table border=\"1\" class=\"dataframe\">\n",
              "  <thead>\n",
              "    <tr style=\"text-align: right;\">\n",
              "      <th></th>\n",
              "      <th>task_name</th>\n",
              "      <th>due_date</th>\n",
              "      <th>priority</th>\n",
              "      <th>action_loop</th>\n",
              "      <th>action_iterrow</th>\n",
              "      <th>action_itertuples</th>\n",
              "      <th>action_impl</th>\n",
              "      <th>action_list</th>\n",
              "      <th>action_vec</th>\n",
              "      <th>action_np_vec</th>\n",
              "      <th>action_numba</th>\n",
              "      <th>action_pandarallel</th>\n",
              "      <th>action_dask</th>\n",
              "      <th>action_swifter</th>\n",
              "    </tr>\n",
              "  </thead>\n",
              "  <tbody>\n",
              "  </tbody>\n",
              "</table>\n",
              "</div>"
            ],
            "text/plain": [
              "Empty DataFrame\n",
              "Columns: [task_name, due_date, priority, action_loop, action_iterrow, action_itertuples, action_impl, action_list, action_vec, action_np_vec, action_numba, action_pandarallel, action_dask, action_swifter]\n",
              "Index: []"
            ]
          },
          "metadata": {
            "tags": []
          },
          "execution_count": 56
        }
      ]
    },
    {
      "cell_type": "code",
      "metadata": {
        "id": "VHC4BAjpSRGk",
        "outputId": "3eb60ae9-f52a-430b-dbaf-5a8f1523e9cf",
        "colab": {
          "base_uri": "https://localhost:8080/",
          "height": 69
        }
      },
      "source": [
        "data_sample[data_sample['action_loop'] != data_sample['action_vec']]"
      ],
      "execution_count": 57,
      "outputs": [
        {
          "output_type": "execute_result",
          "data": {
            "text/html": [
              "<div>\n",
              "<style scoped>\n",
              "    .dataframe tbody tr th:only-of-type {\n",
              "        vertical-align: middle;\n",
              "    }\n",
              "\n",
              "    .dataframe tbody tr th {\n",
              "        vertical-align: top;\n",
              "    }\n",
              "\n",
              "    .dataframe thead th {\n",
              "        text-align: right;\n",
              "    }\n",
              "</style>\n",
              "<table border=\"1\" class=\"dataframe\">\n",
              "  <thead>\n",
              "    <tr style=\"text-align: right;\">\n",
              "      <th></th>\n",
              "      <th>task_name</th>\n",
              "      <th>due_date</th>\n",
              "      <th>priority</th>\n",
              "      <th>action_loop</th>\n",
              "      <th>action_iterrow</th>\n",
              "      <th>action_itertuples</th>\n",
              "      <th>action_impl</th>\n",
              "      <th>action_list</th>\n",
              "      <th>action_vec</th>\n",
              "      <th>action_np_vec</th>\n",
              "      <th>action_numba</th>\n",
              "      <th>action_pandarallel</th>\n",
              "      <th>action_dask</th>\n",
              "      <th>action_swifter</th>\n",
              "    </tr>\n",
              "  </thead>\n",
              "  <tbody>\n",
              "  </tbody>\n",
              "</table>\n",
              "</div>"
            ],
            "text/plain": [
              "Empty DataFrame\n",
              "Columns: [task_name, due_date, priority, action_loop, action_iterrow, action_itertuples, action_impl, action_list, action_vec, action_np_vec, action_numba, action_pandarallel, action_dask, action_swifter]\n",
              "Index: []"
            ]
          },
          "metadata": {
            "tags": []
          },
          "execution_count": 57
        }
      ]
    },
    {
      "cell_type": "code",
      "metadata": {
        "id": "EKszPx-Zj6av",
        "outputId": "7443b245-f743-4ff4-ad4f-71445f3d2b35",
        "colab": {
          "base_uri": "https://localhost:8080/",
          "height": 69
        }
      },
      "source": [
        "data_sample[data_sample['action_loop'] != data_sample['action_np_vec']]"
      ],
      "execution_count": 58,
      "outputs": [
        {
          "output_type": "execute_result",
          "data": {
            "text/html": [
              "<div>\n",
              "<style scoped>\n",
              "    .dataframe tbody tr th:only-of-type {\n",
              "        vertical-align: middle;\n",
              "    }\n",
              "\n",
              "    .dataframe tbody tr th {\n",
              "        vertical-align: top;\n",
              "    }\n",
              "\n",
              "    .dataframe thead th {\n",
              "        text-align: right;\n",
              "    }\n",
              "</style>\n",
              "<table border=\"1\" class=\"dataframe\">\n",
              "  <thead>\n",
              "    <tr style=\"text-align: right;\">\n",
              "      <th></th>\n",
              "      <th>task_name</th>\n",
              "      <th>due_date</th>\n",
              "      <th>priority</th>\n",
              "      <th>action_loop</th>\n",
              "      <th>action_iterrow</th>\n",
              "      <th>action_itertuples</th>\n",
              "      <th>action_impl</th>\n",
              "      <th>action_list</th>\n",
              "      <th>action_vec</th>\n",
              "      <th>action_np_vec</th>\n",
              "      <th>action_numba</th>\n",
              "      <th>action_pandarallel</th>\n",
              "      <th>action_dask</th>\n",
              "      <th>action_swifter</th>\n",
              "    </tr>\n",
              "  </thead>\n",
              "  <tbody>\n",
              "  </tbody>\n",
              "</table>\n",
              "</div>"
            ],
            "text/plain": [
              "Empty DataFrame\n",
              "Columns: [task_name, due_date, priority, action_loop, action_iterrow, action_itertuples, action_impl, action_list, action_vec, action_np_vec, action_numba, action_pandarallel, action_dask, action_swifter]\n",
              "Index: []"
            ]
          },
          "metadata": {
            "tags": []
          },
          "execution_count": 58
        }
      ]
    },
    {
      "cell_type": "code",
      "metadata": {
        "id": "YT5RUrQo6W46",
        "outputId": "e8c1f5e2-9fd6-44c9-ec20-bb2c1461fd89",
        "colab": {
          "base_uri": "https://localhost:8080/",
          "height": 69
        }
      },
      "source": [
        "data_sample[data_sample['action_loop'] != data_sample['action_numba']]"
      ],
      "execution_count": 59,
      "outputs": [
        {
          "output_type": "execute_result",
          "data": {
            "text/html": [
              "<div>\n",
              "<style scoped>\n",
              "    .dataframe tbody tr th:only-of-type {\n",
              "        vertical-align: middle;\n",
              "    }\n",
              "\n",
              "    .dataframe tbody tr th {\n",
              "        vertical-align: top;\n",
              "    }\n",
              "\n",
              "    .dataframe thead th {\n",
              "        text-align: right;\n",
              "    }\n",
              "</style>\n",
              "<table border=\"1\" class=\"dataframe\">\n",
              "  <thead>\n",
              "    <tr style=\"text-align: right;\">\n",
              "      <th></th>\n",
              "      <th>task_name</th>\n",
              "      <th>due_date</th>\n",
              "      <th>priority</th>\n",
              "      <th>action_loop</th>\n",
              "      <th>action_iterrow</th>\n",
              "      <th>action_itertuples</th>\n",
              "      <th>action_impl</th>\n",
              "      <th>action_list</th>\n",
              "      <th>action_vec</th>\n",
              "      <th>action_np_vec</th>\n",
              "      <th>action_numba</th>\n",
              "      <th>action_pandarallel</th>\n",
              "      <th>action_dask</th>\n",
              "      <th>action_swifter</th>\n",
              "    </tr>\n",
              "  </thead>\n",
              "  <tbody>\n",
              "  </tbody>\n",
              "</table>\n",
              "</div>"
            ],
            "text/plain": [
              "Empty DataFrame\n",
              "Columns: [task_name, due_date, priority, action_loop, action_iterrow, action_itertuples, action_impl, action_list, action_vec, action_np_vec, action_numba, action_pandarallel, action_dask, action_swifter]\n",
              "Index: []"
            ]
          },
          "metadata": {
            "tags": []
          },
          "execution_count": 59
        }
      ]
    },
    {
      "cell_type": "code",
      "metadata": {
        "id": "D6NhkfYw9ZI3",
        "outputId": "f888d4ab-7eae-4cf2-950c-188f33cb5ac0",
        "colab": {
          "base_uri": "https://localhost:8080/",
          "height": 69
        }
      },
      "source": [
        "data_sample[data_sample['action_loop'] != data_sample['action_pandarallel']]"
      ],
      "execution_count": 60,
      "outputs": [
        {
          "output_type": "execute_result",
          "data": {
            "text/html": [
              "<div>\n",
              "<style scoped>\n",
              "    .dataframe tbody tr th:only-of-type {\n",
              "        vertical-align: middle;\n",
              "    }\n",
              "\n",
              "    .dataframe tbody tr th {\n",
              "        vertical-align: top;\n",
              "    }\n",
              "\n",
              "    .dataframe thead th {\n",
              "        text-align: right;\n",
              "    }\n",
              "</style>\n",
              "<table border=\"1\" class=\"dataframe\">\n",
              "  <thead>\n",
              "    <tr style=\"text-align: right;\">\n",
              "      <th></th>\n",
              "      <th>task_name</th>\n",
              "      <th>due_date</th>\n",
              "      <th>priority</th>\n",
              "      <th>action_loop</th>\n",
              "      <th>action_iterrow</th>\n",
              "      <th>action_itertuples</th>\n",
              "      <th>action_impl</th>\n",
              "      <th>action_list</th>\n",
              "      <th>action_vec</th>\n",
              "      <th>action_np_vec</th>\n",
              "      <th>action_numba</th>\n",
              "      <th>action_pandarallel</th>\n",
              "      <th>action_dask</th>\n",
              "      <th>action_swifter</th>\n",
              "    </tr>\n",
              "  </thead>\n",
              "  <tbody>\n",
              "  </tbody>\n",
              "</table>\n",
              "</div>"
            ],
            "text/plain": [
              "Empty DataFrame\n",
              "Columns: [task_name, due_date, priority, action_loop, action_iterrow, action_itertuples, action_impl, action_list, action_vec, action_np_vec, action_numba, action_pandarallel, action_dask, action_swifter]\n",
              "Index: []"
            ]
          },
          "metadata": {
            "tags": []
          },
          "execution_count": 60
        }
      ]
    },
    {
      "cell_type": "code",
      "metadata": {
        "id": "6pqJ7eWgEQ3M",
        "outputId": "3909f660-d02e-4f69-aa65-3c8281b7bab2",
        "colab": {
          "base_uri": "https://localhost:8080/",
          "height": 69
        }
      },
      "source": [
        "data_sample[data_sample['action_loop'] != data_sample['action_dask']]"
      ],
      "execution_count": 61,
      "outputs": [
        {
          "output_type": "execute_result",
          "data": {
            "text/html": [
              "<div>\n",
              "<style scoped>\n",
              "    .dataframe tbody tr th:only-of-type {\n",
              "        vertical-align: middle;\n",
              "    }\n",
              "\n",
              "    .dataframe tbody tr th {\n",
              "        vertical-align: top;\n",
              "    }\n",
              "\n",
              "    .dataframe thead th {\n",
              "        text-align: right;\n",
              "    }\n",
              "</style>\n",
              "<table border=\"1\" class=\"dataframe\">\n",
              "  <thead>\n",
              "    <tr style=\"text-align: right;\">\n",
              "      <th></th>\n",
              "      <th>task_name</th>\n",
              "      <th>due_date</th>\n",
              "      <th>priority</th>\n",
              "      <th>action_loop</th>\n",
              "      <th>action_iterrow</th>\n",
              "      <th>action_itertuples</th>\n",
              "      <th>action_impl</th>\n",
              "      <th>action_list</th>\n",
              "      <th>action_vec</th>\n",
              "      <th>action_np_vec</th>\n",
              "      <th>action_numba</th>\n",
              "      <th>action_pandarallel</th>\n",
              "      <th>action_dask</th>\n",
              "      <th>action_swifter</th>\n",
              "    </tr>\n",
              "  </thead>\n",
              "  <tbody>\n",
              "  </tbody>\n",
              "</table>\n",
              "</div>"
            ],
            "text/plain": [
              "Empty DataFrame\n",
              "Columns: [task_name, due_date, priority, action_loop, action_iterrow, action_itertuples, action_impl, action_list, action_vec, action_np_vec, action_numba, action_pandarallel, action_dask, action_swifter]\n",
              "Index: []"
            ]
          },
          "metadata": {
            "tags": []
          },
          "execution_count": 61
        }
      ]
    },
    {
      "cell_type": "code",
      "metadata": {
        "id": "4LIT_FZiIgu8",
        "outputId": "4cde6dbe-528e-424e-a77f-d51f6ef04ad9",
        "colab": {
          "base_uri": "https://localhost:8080/",
          "height": 69
        }
      },
      "source": [
        "data_sample[data_sample['action_loop'] != data_sample['action_swifter']]"
      ],
      "execution_count": 62,
      "outputs": [
        {
          "output_type": "execute_result",
          "data": {
            "text/html": [
              "<div>\n",
              "<style scoped>\n",
              "    .dataframe tbody tr th:only-of-type {\n",
              "        vertical-align: middle;\n",
              "    }\n",
              "\n",
              "    .dataframe tbody tr th {\n",
              "        vertical-align: top;\n",
              "    }\n",
              "\n",
              "    .dataframe thead th {\n",
              "        text-align: right;\n",
              "    }\n",
              "</style>\n",
              "<table border=\"1\" class=\"dataframe\">\n",
              "  <thead>\n",
              "    <tr style=\"text-align: right;\">\n",
              "      <th></th>\n",
              "      <th>task_name</th>\n",
              "      <th>due_date</th>\n",
              "      <th>priority</th>\n",
              "      <th>action_loop</th>\n",
              "      <th>action_iterrow</th>\n",
              "      <th>action_itertuples</th>\n",
              "      <th>action_impl</th>\n",
              "      <th>action_list</th>\n",
              "      <th>action_vec</th>\n",
              "      <th>action_np_vec</th>\n",
              "      <th>action_numba</th>\n",
              "      <th>action_pandarallel</th>\n",
              "      <th>action_dask</th>\n",
              "      <th>action_swifter</th>\n",
              "    </tr>\n",
              "  </thead>\n",
              "  <tbody>\n",
              "  </tbody>\n",
              "</table>\n",
              "</div>"
            ],
            "text/plain": [
              "Empty DataFrame\n",
              "Columns: [task_name, due_date, priority, action_loop, action_iterrow, action_itertuples, action_impl, action_list, action_vec, action_np_vec, action_numba, action_pandarallel, action_dask, action_swifter]\n",
              "Index: []"
            ]
          },
          "metadata": {
            "tags": []
          },
          "execution_count": 62
        }
      ]
    },
    {
      "cell_type": "markdown",
      "metadata": {
        "id": "Lfcfp6pu-2J6"
      },
      "source": [
        "## Plot Performance Over DataFrame Size\n"
      ]
    },
    {
      "cell_type": "code",
      "metadata": {
        "id": "rgPwgV5w_CFx",
        "outputId": "d1cddc8f-d390-4ab7-86cc-57b58a4fce34",
        "colab": {
          "base_uri": "https://localhost:8080/",
          "height": 299
        }
      },
      "source": [
        "kernels = [\n",
        "  loop_impl,\n",
        "  iterrows_impl,\n",
        "  itertuples_impl,\n",
        "  apply_impl,\n",
        "  list_impl,\n",
        "  vec_impl,\n",
        "  np_vec_impl,\n",
        "  numba_impl,\n",
        "  pandarallel_impl,\n",
        "  dask_impl,\n",
        "  swifter_impl\n",
        "]\n",
        "\n",
        "labels = [str(k.__name__)[:-5] for k in kernels]\n",
        "\n",
        "perfplot.show(\n",
        "  setup=lambda n: test_data_sample(n),\n",
        "  kernels=kernels,\n",
        "  labels=labels,\n",
        "  n_range=[2**k for k in range(K_MAX)],\n",
        "  xlabel='N',\n",
        "  logx=True,\n",
        "  logy=True,\n",
        "  #equality_check=None\n",
        ")"
      ],
      "execution_count": 64,
      "outputs": [
        {
          "output_type": "display_data",
          "data": {
            "image/png": "[encoded data removed]",
            "text/plain": [
              "<Figure size 432x288 with 1 Axes>"
            ]
          },
          "metadata": {
            "tags": [],
            "needs_background": "dark"
          }
        }
      ]
    },
    {
      "cell_type": "markdown",
      "metadata": {
        "id": "tq3Ki7Q0--LT"
      },
      "source": [
        "## Summary"
      ]
    },
    {
      "cell_type": "markdown",
      "metadata": {
        "id": "3yYtmsUmWiEu"
      },
      "source": [
        "Performance Comparision:\n",
        "\n",
        "| Method             | CPU Time (s) | GPU Time (s) |\n",
        "| ------------------ | -----------: | -----------: |\n",
        "| Python Loop        |    37.600000 |    31.600000 |\n",
        "| Pandas iterrow()   |     9.520000 |     8.110000 |\n",
        "| Pandas apply()     |     1.790000 |     1.500000 |\n",
        "| Pandas itertuples()|     0.198000 |     0.150000 |\n",
        "| List Comprehension |     0.076000 |     0.058300 |\n",
        "| NumPy vectorize()  |     0.037200 |     0.025600 |\n",
        "| Vectorization      |     0.021500 |     0.009140 |\n",
        "| ------------------ | ------------ | ------------ |\n",
        "| Numba              |     0.019400 |     0.007700 |\n",
        "| Pandarallel        |     2.210000 |     1.740000 |\n",
        "| Dask               |     2.070000 |     1.700000 |\n",
        "| Swifter            |     0.025000 |     0.011100 |"
      ]
    }
  ]
}